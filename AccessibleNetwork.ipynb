{
 "cells": [
  {
   "cell_type": "markdown",
   "metadata": {},
   "source": [
    "### Accessing BIGR Network Files from BETSE\n",
    "\n",
    "#### Steps:\n",
    "\n",
    "1) Start using BETSE using the 'BetseWrapper' class as outlined in the code below. The BetseWrapper class has been added to the BETSE repository, and can be accessed by pulling the latest commit from BETSE on Github. The following code shows how to run BETSE as an external dependency. \n",
    "\n",
    "2) Install Networkx and Pydot in order to work with networks \n",
    "\n",
    "3) Run the BetseWrapper as an init or sim with a config file that has a Gene Regulatory Network defined. \n",
    "\n",
    "4) See last code block below for code to access BETSE's GRN and how to export svg, convert from pydot to networkx.\n"
   ]
  },
  {
   "cell_type": "code",
   "execution_count": 1,
   "metadata": {},
   "outputs": [
    {
     "name": "stdout",
     "output_type": "stream",
     "text": [
      "Available kernels:\r\n",
      "  python3    /Users/benjamin/opt/anaconda3/share/jupyter/kernels/python3\r\n"
     ]
    }
   ],
   "source": [
    "!jupyter kernelspec list"
   ]
  },
  {
   "cell_type": "code",
   "execution_count": 2,
   "metadata": {},
   "outputs": [
    {
     "name": "stdout",
     "output_type": "stream",
     "text": [
      "/Users/benjamin/opt/anaconda3/bin/python\r\n"
     ]
    }
   ],
   "source": [
    "!which -a python"
   ]
  },
  {
   "cell_type": "code",
   "execution_count": 6,
   "metadata": {},
   "outputs": [
    {
     "name": "stdout",
     "output_type": "stream",
     "text": [
      "Requirement already satisfied: matplotlib in /Users/benjamin/opt/anaconda3/lib/python3.9/site-packages (3.5.2)\n",
      "Requirement already satisfied: pillow>=6.2.0 in /Users/benjamin/opt/anaconda3/lib/python3.9/site-packages (from matplotlib) (9.2.0)\n",
      "Requirement already satisfied: fonttools>=4.22.0 in /Users/benjamin/opt/anaconda3/lib/python3.9/site-packages (from matplotlib) (4.34.4)\n",
      "Requirement already satisfied: kiwisolver>=1.0.1 in /Users/benjamin/opt/anaconda3/lib/python3.9/site-packages (from matplotlib) (1.4.4)\n",
      "Requirement already satisfied: numpy>=1.17 in /Users/benjamin/opt/anaconda3/lib/python3.9/site-packages (from matplotlib) (1.22.3)\n",
      "Requirement already satisfied: packaging>=20.0 in /Users/benjamin/opt/anaconda3/lib/python3.9/site-packages (from matplotlib) (21.3)\n",
      "Requirement already satisfied: cycler>=0.10 in /Users/benjamin/opt/anaconda3/lib/python3.9/site-packages (from matplotlib) (0.11.0)\n",
      "Requirement already satisfied: pyparsing>=2.2.1 in /Users/benjamin/opt/anaconda3/lib/python3.9/site-packages (from matplotlib) (3.0.9)\n",
      "Requirement already satisfied: python-dateutil>=2.7 in /Users/benjamin/opt/anaconda3/lib/python3.9/site-packages (from matplotlib) (2.8.2)\n",
      "Requirement already satisfied: six>=1.5 in /Users/benjamin/opt/anaconda3/lib/python3.9/site-packages (from python-dateutil>=2.7->matplotlib) (1.16.0)\n",
      "Note: you may need to restart the kernel to use updated packages.\n"
     ]
    }
   ],
   "source": [
    "pip install matplotlib"
   ]
  },
  {
   "cell_type": "code",
   "execution_count": 16,
   "metadata": {},
   "outputs": [
    {
     "name": "stdout",
     "output_type": "stream",
     "text": [
      "IOStream.flush timed out\n",
      "IOStream.flush timed out\n",
      "Collecting beartype\n",
      "  Downloading beartype-0.10.4-py3-none-any.whl (578 kB)\n",
      "\u001b[2K     \u001b[90m━━━━━━━━━━━━━━━━━━━━━━━━━━━━━━━━━━━━━━━\u001b[0m \u001b[32m578.1/578.1 kB\u001b[0m \u001b[31m6.3 MB/s\u001b[0m eta \u001b[36m0:00:00\u001b[0m00:01\u001b[0m00:01\u001b[0m\n",
      "\u001b[?25hInstalling collected packages: beartype\n",
      "Successfully installed beartype-0.10.4\n",
      "Note: you may need to restart the kernel to use updated packages.\n"
     ]
    }
   ],
   "source": [
    "pip install beartype"
   ]
  },
  {
   "cell_type": "code",
   "execution_count": 1,
   "metadata": {},
   "outputs": [
    {
     "name": "stdout",
     "output_type": "stream",
     "text": [
      "[ipykernel_launcher.py] Loading third-party dependencies...\n"
     ]
    },
    {
     "name": "stderr",
     "output_type": "stream",
     "text": [
      "[ipykernel_launcher.py] macOS shared library \"/System/Library/Frameworks/Security.framework/Security\" not found.\n"
     ]
    },
    {
     "name": "stdout",
     "output_type": "stream",
     "text": [
      "[ipykernel_launcher.py] Headless display environment detected. Defaulting to headless backend \"Agg\"...\n"
     ]
    }
   ],
   "source": [
    "# Import statements:\n",
    "import numpy as np\n",
    "import matplotlib.cm as cm\n",
    "import matplotlib.pyplot as plt\n",
    "from matplotlib import colorbar\n",
    "from matplotlib.collections import PolyCollection\n",
    "from betse.science.wrapper import BetseWrapper\n",
    "\n",
    "# Import optional dependencies for working with networks:\n",
    "import networkx\n",
    "import pydot\n",
    "from betse.science.chemistry.netplot import plot_master_network"
   ]
  },
  {
   "cell_type": "code",
   "execution_count": 3,
   "metadata": {},
   "outputs": [],
   "source": [
    "# This makes plots interactive (e.g. zoom, pan, saving, etc)\n",
    "# %matplotlib notebook "
   ]
  },
  {
   "cell_type": "code",
   "execution_count": 14,
   "metadata": {},
   "outputs": [
    {
     "name": "stdout",
     "output_type": "stream",
     "text": [
      "/Users/benjamin/betse/patterns.yaml\n"
     ]
    }
   ],
   "source": [
    "# Supply a path to a Betse config file on your system.\n",
    "# To work with networks, this file needs to have a 'Gene Regulatory Network' \n",
    "# enabled: \n",
    "fno = '/Users/benjamin/betse/patterns.yaml'\n",
    "print(fno)\n",
    "\n",
    "# Begin by setting up a new cell cluster and running a betse inititalization on it:\n",
    "model = BetseWrapper(fno)\n",
    "\n",
    "# Have the model run through a BETSE simulation: \n",
    "# model.run_seed(verbose=True) # Only run the creation of a cell cluster\n",
    "# model.run_init(new_mesh=False, verbose=True) # only run the init phase\n",
    "# model.run_sim(verbose=True) # only run the sim phase"
   ]
  },
  {
   "cell_type": "code",
   "execution_count": 15,
   "metadata": {},
   "outputs": [
    {
     "name": "stdout",
     "output_type": "stream",
     "text": [
      "[ipykernel_launcher.py] Creating a new 2D Grid.\n",
      "[ipykernel_launcher.py] Seeding simulation...\n",
      "[ipykernel_launcher.py] Creating hexagonal cell lattice...\n",
      "[ipykernel_launcher.py] Creating Voronoi geometry... \n",
      "[ipykernel_launcher.py] Creating triangular mesh...\n",
      "[ipykernel_launcher.py] Check for unused vertices...\n",
      "[ipykernel_launcher.py] Merging close circumcenters...\n",
      "[ipykernel_launcher.py] Defining edges of tri mesh...\n",
      "[ipykernel_launcher.py] Calculating Voronoi cells...\n",
      "[ipykernel_launcher.py] Calculating Voronoi edges...\n",
      "[ipykernel_launcher.py] Creating triangular mesh...\n",
      "[ipykernel_launcher.py] Check for unused vertices...\n",
      "[ipykernel_launcher.py] Merging close circumcenters...\n",
      "[ipykernel_launcher.py] Defining edges of tri mesh...\n",
      "[ipykernel_launcher.py] Calculating Voronoi cells...\n",
      "[ipykernel_launcher.py] Calculating Voronoi edges...\n",
      "[ipykernel_launcher.py] Initializing Voronoi mesh optimization...\n",
      "[ipykernel_launcher.py] Creating triangular mesh...\n",
      "[ipykernel_launcher.py] Check for unused vertices...\n",
      "[ipykernel_launcher.py] Merging close circumcenters...\n",
      "[ipykernel_launcher.py] Defining edges of tri mesh...\n",
      "[ipykernel_launcher.py] Calculating Voronoi cells...\n",
      "[ipykernel_launcher.py] Calculating Voronoi edges...\n",
      "[ipykernel_launcher.py] Step 0: mesh energy 20.351652365591622\n",
      "[ipykernel_launcher.py] Creating triangular mesh...\n",
      "[ipykernel_launcher.py] Check for unused vertices...\n",
      "[ipykernel_launcher.py] Merging close circumcenters...\n",
      "[ipykernel_launcher.py] Defining edges of tri mesh...\n",
      "[ipykernel_launcher.py] Calculating Voronoi cells...\n",
      "[ipykernel_launcher.py] Calculating Voronoi edges...\n",
      "[ipykernel_launcher.py] Step 1: mesh energy 13.067840096895717\n",
      "[ipykernel_launcher.py] Creating triangular mesh...\n",
      "[ipykernel_launcher.py] Check for unused vertices...\n",
      "[ipykernel_launcher.py] Merging close circumcenters...\n",
      "[ipykernel_launcher.py] Defining edges of tri mesh...\n",
      "[ipykernel_launcher.py] Calculating Voronoi cells...\n",
      "[ipykernel_launcher.py] Calculating Voronoi edges...\n",
      "[ipykernel_launcher.py] Step 2: mesh energy 10.076850970638018\n",
      "[ipykernel_launcher.py] Creating triangular mesh...\n",
      "[ipykernel_launcher.py] Check for unused vertices...\n",
      "[ipykernel_launcher.py] Merging close circumcenters...\n",
      "[ipykernel_launcher.py] Defining edges of tri mesh...\n",
      "[ipykernel_launcher.py] Calculating Voronoi cells...\n",
      "[ipykernel_launcher.py] Calculating Voronoi edges...\n",
      "[ipykernel_launcher.py] Step 3: mesh energy 8.252062627212867\n",
      "[ipykernel_launcher.py] Creating triangular mesh...\n",
      "[ipykernel_launcher.py] Check for unused vertices...\n",
      "[ipykernel_launcher.py] Merging close circumcenters...\n",
      "[ipykernel_launcher.py] Defining edges of tri mesh...\n",
      "[ipykernel_launcher.py] Calculating Voronoi cells...\n",
      "[ipykernel_launcher.py] Calculating Voronoi edges...\n",
      "[ipykernel_launcher.py] Step 4: mesh energy 7.094130678468892\n",
      "[ipykernel_launcher.py] Creating triangular mesh...\n",
      "[ipykernel_launcher.py] Check for unused vertices...\n",
      "[ipykernel_launcher.py] Merging close circumcenters...\n",
      "[ipykernel_launcher.py] Defining edges of tri mesh...\n",
      "[ipykernel_launcher.py] Calculating Voronoi cells...\n",
      "[ipykernel_launcher.py] Calculating Voronoi edges...\n",
      "[ipykernel_launcher.py] Step 5: mesh energy 6.33681837087444\n",
      "[ipykernel_launcher.py] Creating triangular mesh...\n",
      "[ipykernel_launcher.py] Check for unused vertices...\n",
      "[ipykernel_launcher.py] Merging close circumcenters...\n",
      "[ipykernel_launcher.py] Defining edges of tri mesh...\n",
      "[ipykernel_launcher.py] Calculating Voronoi cells...\n",
      "[ipykernel_launcher.py] Calculating Voronoi edges...\n",
      "[ipykernel_launcher.py] Step 6: mesh energy 5.827776358974212\n",
      "[ipykernel_launcher.py] Creating triangular mesh...\n",
      "[ipykernel_launcher.py] Check for unused vertices...\n",
      "[ipykernel_launcher.py] Merging close circumcenters...\n",
      "[ipykernel_launcher.py] Defining edges of tri mesh...\n",
      "[ipykernel_launcher.py] Calculating Voronoi cells...\n",
      "[ipykernel_launcher.py] Calculating Voronoi edges...\n",
      "[ipykernel_launcher.py] Step 7: mesh energy 5.476548470181498\n",
      "[ipykernel_launcher.py] Creating triangular mesh...\n",
      "[ipykernel_launcher.py] Check for unused vertices...\n",
      "[ipykernel_launcher.py] Merging close circumcenters...\n",
      "[ipykernel_launcher.py] Defining edges of tri mesh...\n",
      "[ipykernel_launcher.py] Calculating Voronoi cells...\n",
      "[ipykernel_launcher.py] Calculating Voronoi edges...\n",
      "[ipykernel_launcher.py] Step 8: mesh energy 5.228033706071216\n",
      "[ipykernel_launcher.py] Creating triangular mesh...\n",
      "[ipykernel_launcher.py] Check for unused vertices...\n",
      "[ipykernel_launcher.py] Merging close circumcenters...\n",
      "[ipykernel_launcher.py] Defining edges of tri mesh...\n",
      "[ipykernel_launcher.py] Calculating Voronoi cells...\n",
      "[ipykernel_launcher.py] Calculating Voronoi edges...\n",
      "[ipykernel_launcher.py] Step 9: mesh energy 5.047920474900514\n",
      "[ipykernel_launcher.py] Creating triangular mesh...\n",
      "[ipykernel_launcher.py] Check for unused vertices...\n",
      "[ipykernel_launcher.py] Merging close circumcenters...\n",
      "[ipykernel_launcher.py] Defining edges of tri mesh...\n",
      "[ipykernel_launcher.py] Calculating Voronoi cells...\n",
      "[ipykernel_launcher.py] Calculating Voronoi edges...\n",
      "[ipykernel_launcher.py] Creating core operators...\n",
      "[ipykernel_launcher.py] Mesh creation complete!\n",
      "[ipykernel_launcher.py] Creating computational matrices for cell-cell transfers...\n",
      "[ipykernel_launcher.py] Creating gap junctions... \n",
      "[ipykernel_launcher.py] Creating core computational matrices...\n",
      "[ipykernel_launcher.py] Cell cluster creation complete!\n",
      "[ipykernel_launcher.py] This world contains 969 cells.\n",
      "[ipykernel_launcher.py] Each cell has an average of 5.65 nearest-neighbours.\n",
      "[ipykernel_launcher.py] The \"basic\" ion profile enables the \"sodium\", \"potassium\", \"proteins\", and \"anion\" ions.\n",
      "[ipykernel_launcher.py] If you have selected features using other ions, they will be ignored.\n",
      "[ipykernel_launcher.py] Extracellular spaces enabled: False\n",
      "[ipykernel_launcher.py] Electroosmotic fluid flow: False\n",
      "[ipykernel_launcher.py] Force-induced cell deformation: False\n",
      "[ipykernel_launcher.py] Osmotic pressure: False\n",
      "[ipykernel_launcher.py] Gene regulatory network (GRN) configuration: /Users/benjamin/betse/extra_configs/worm_3.yaml\n",
      "[ipykernel_launcher.py] Seed completed in 35.14 seconds.\n",
      "[ipykernel_launcher.py] Initializing simulation...\n",
      "[ipykernel_launcher.py] Cell cluster loaded.\n",
      "[ipykernel_launcher.py] Creating core computational matrices...\n",
      "[ipykernel_launcher.py] This world contains 969 cells.\n",
      "[ipykernel_launcher.py] Each cell has an average of 5.65 nearest-neighbours.\n",
      "[ipykernel_launcher.py] The \"basic\" ion profile enables the \"sodium\", \"potassium\", \"proteins\", and \"anion\" ions.\n",
      "[ipykernel_launcher.py] If you have selected features using other ions, they will be ignored.\n",
      "[ipykernel_launcher.py] Extracellular spaces enabled: False\n",
      "[ipykernel_launcher.py] Electroosmotic fluid flow: False\n",
      "[ipykernel_launcher.py] Force-induced cell deformation: False\n",
      "[ipykernel_launcher.py] Osmotic pressure: False\n",
      "[ipykernel_launcher.py] Gene regulatory network (GRN) configuration: /Users/benjamin/betse/extra_configs/worm_3.yaml\n",
      "[ipykernel_launcher.py] Initializing tissue and boundary profiles...\n",
      "[ipykernel_launcher.py] Initializing gene regulatory network...\n",
      "[ipykernel_launcher.py] Reading additional substance data...\n",
      "[ipykernel_launcher.py] Initializing substances/reaction network...\n",
      "[ipykernel_launcher.py] Writing substance growth/decay equations...\n",
      "[ipykernel_launcher.py] Writing passive electrodiffusion equations...\n",
      "[ipykernel_launcher.py] Writing reaction network matrix for cell zone...\n",
      "[ipykernel_launcher.py] Writing reaction network matrix for env zone...\n",
      "[ipykernel_launcher.py] Reading channel input data...\n",
      "[ipykernel_launcher.py] You are using a K+ Leak channel\n",
      "[ipykernel_launcher.py] Your initialization is running from 0 to 500.00 s of in-world time in 50000 time steps (99 sampled).\n",
      "[ipykernel_launcher.py] Solver: Fast (equivalent circuit) simulator in use.\n"
     ]
    },
    {
     "name": "stderr",
     "output_type": "stream",
     "text": [
      "ffmpeg version 5.1 Copyright (c) 2000-2022 the FFmpeg developers\n",
      "  built with clang version 13.0.1\n",
      "  configuration: --prefix=/Users/runner/miniforge3/conda-bld/ffmpeg_1658802473559/_h_env_placehold_placehold_placehold_placehold_placehold_placehold_placehold_placehold_placehold_placehold_placehold_placehold_placehold_placehold_placehold_placehold_placehold_placehold_placehold_pl --cc=x86_64-apple-darwin13.4.0-clang --cxx=x86_64-apple-darwin13.4.0-clang++ --nm=x86_64-apple-darwin13.4.0-nm --ar=x86_64-apple-darwin13.4.0-ar --disable-doc --disable-openssl --enable-demuxer=dash --enable-hardcoded-tables --enable-libfreetype --enable-libfontconfig --enable-libopenh264 --disable-videotoolbox --enable-gnutls --enable-libmp3lame --enable-libvpx --enable-pthreads --enable-gpl --enable-libx264 --enable-libx265 --enable-libaom --enable-libsvtav1 --enable-libxml2 --enable-pic --enable-shared --disable-static --enable-version3 --enable-zlib --pkg-config=/Users/runner/miniforge3/conda-bld/ffmpeg_1658802473559/_build_env/bin/pkg-config\n",
      "  libavutil      57. 28.100 / 57. 28.100\n",
      "  libavcodec     59. 37.100 / 59. 37.100\n",
      "  libavformat    59. 27.100 / 59. 27.100\n",
      "  libavdevice    59.  7.100 / 59.  7.100\n",
      "  libavfilter     8. 44.100 /  8. 44.100\n",
      "  libswscale      6.  7.100 /  6.  7.100\n",
      "  libswresample   4.  7.100 /  4.  7.100\n",
      "  libpostproc    56.  6.100 / 56.  6.100\n",
      "[ipykernel_launcher.py] /Users/benjamin/betse/betse/science/visual/anim/animwhile.py:190: UserWarning: Matplotlib is currently using agg, which is a non-GUI backend, so cannot show the figure.\n",
      "  pyplot.show()\n",
      "\n"
     ]
    },
    {
     "name": "stdout",
     "output_type": "stream",
     "text": [
      "[ipykernel_launcher.py] This run should take approximately 888.990000s to compute...\n",
      "[ipykernel_launcher.py] time: 5.0 s of 500.0 s\n",
      "[ipykernel_launcher.py] Average Anion in the cell: 0.3526 mmol/L\n",
      "[ipykernel_launcher.py] Average Na  in the cell: 12.0 mmol/L\n",
      "[ipykernel_launcher.py] Average K  in the cell: 139.0 mmol/L\n",
      "[ipykernel_launcher.py] -------------------------------------------------------------------\n"
     ]
    },
    {
     "name": "stderr",
     "output_type": "stream",
     "text": [
      "[ipykernel_launcher.py] /Users/benjamin/betse/betse/science/visual/visabc.py:1045: UserWarning: Matplotlib is currently using agg, which is a non-GUI backend, so cannot show the figure.\n",
      "  pyplot.pause(0.0001)\n",
      "\n"
     ]
    },
    {
     "name": "stdout",
     "output_type": "stream",
     "text": [
      "[ipykernel_launcher.py] time: 10.0 s of 500.0 s\n",
      "[ipykernel_launcher.py] Average Anion in the cell: 0.3843 mmol/L\n",
      "[ipykernel_launcher.py] Average Na  in the cell: 12.0 mmol/L\n",
      "[ipykernel_launcher.py] Average K  in the cell: 139.0 mmol/L\n",
      "[ipykernel_launcher.py] -------------------------------------------------------------------\n"
     ]
    },
    {
     "name": "stderr",
     "output_type": "stream",
     "text": [
      "[ipykernel_launcher.py] /Users/benjamin/betse/betse/science/visual/visabc.py:1045: UserWarning: Matplotlib is currently using agg, which is a non-GUI backend, so cannot show the figure.\n",
      "  pyplot.pause(0.0001)\n",
      "\n"
     ]
    },
    {
     "name": "stdout",
     "output_type": "stream",
     "text": [
      "[ipykernel_launcher.py] time: 15.0 s of 500.0 s\n",
      "[ipykernel_launcher.py] Average Anion in the cell: 0.4143 mmol/L\n",
      "[ipykernel_launcher.py] Average Na  in the cell: 12.0 mmol/L\n",
      "[ipykernel_launcher.py] Average K  in the cell: 139.0 mmol/L\n",
      "[ipykernel_launcher.py] -------------------------------------------------------------------\n"
     ]
    },
    {
     "name": "stderr",
     "output_type": "stream",
     "text": [
      "[ipykernel_launcher.py] /Users/benjamin/betse/betse/science/visual/visabc.py:1045: UserWarning: Matplotlib is currently using agg, which is a non-GUI backend, so cannot show the figure.\n",
      "  pyplot.pause(0.0001)\n",
      "\n"
     ]
    },
    {
     "name": "stdout",
     "output_type": "stream",
     "text": [
      "[ipykernel_launcher.py] time: 20.0 s of 500.0 s\n",
      "[ipykernel_launcher.py] Average Anion in the cell: 0.4428 mmol/L\n",
      "[ipykernel_launcher.py] Average Na  in the cell: 12.0 mmol/L\n",
      "[ipykernel_launcher.py] Average K  in the cell: 139.0 mmol/L\n",
      "[ipykernel_launcher.py] -------------------------------------------------------------------\n"
     ]
    },
    {
     "name": "stderr",
     "output_type": "stream",
     "text": [
      "[ipykernel_launcher.py] /Users/benjamin/betse/betse/science/visual/visabc.py:1045: UserWarning: Matplotlib is currently using agg, which is a non-GUI backend, so cannot show the figure.\n",
      "  pyplot.pause(0.0001)\n",
      "\n"
     ]
    },
    {
     "name": "stdout",
     "output_type": "stream",
     "text": [
      "[ipykernel_launcher.py] time: 25.0 s of 500.0 s\n",
      "[ipykernel_launcher.py] Average Anion in the cell: 0.4699 mmol/L\n",
      "[ipykernel_launcher.py] Average Na  in the cell: 12.0 mmol/L\n",
      "[ipykernel_launcher.py] Average K  in the cell: 139.0 mmol/L\n",
      "[ipykernel_launcher.py] -------------------------------------------------------------------\n"
     ]
    },
    {
     "name": "stderr",
     "output_type": "stream",
     "text": [
      "[ipykernel_launcher.py] /Users/benjamin/betse/betse/science/visual/visabc.py:1045: UserWarning: Matplotlib is currently using agg, which is a non-GUI backend, so cannot show the figure.\n",
      "  pyplot.pause(0.0001)\n",
      "\n"
     ]
    },
    {
     "name": "stdout",
     "output_type": "stream",
     "text": [
      "[ipykernel_launcher.py] time: 30.0 s of 500.0 s\n",
      "[ipykernel_launcher.py] Average Anion in the cell: 0.4957 mmol/L\n",
      "[ipykernel_launcher.py] Average Na  in the cell: 12.0 mmol/L\n",
      "[ipykernel_launcher.py] Average K  in the cell: 139.0 mmol/L\n",
      "[ipykernel_launcher.py] -------------------------------------------------------------------\n"
     ]
    },
    {
     "name": "stderr",
     "output_type": "stream",
     "text": [
      "[ipykernel_launcher.py] /Users/benjamin/betse/betse/science/visual/visabc.py:1045: UserWarning: Matplotlib is currently using agg, which is a non-GUI backend, so cannot show the figure.\n",
      "  pyplot.pause(0.0001)\n",
      "\n"
     ]
    },
    {
     "name": "stdout",
     "output_type": "stream",
     "text": [
      "[ipykernel_launcher.py] time: 35.0 s of 500.0 s\n",
      "[ipykernel_launcher.py] Average Anion in the cell: 0.5202 mmol/L\n",
      "[ipykernel_launcher.py] Average Na  in the cell: 12.0 mmol/L\n",
      "[ipykernel_launcher.py] Average K  in the cell: 139.0 mmol/L\n",
      "[ipykernel_launcher.py] -------------------------------------------------------------------\n"
     ]
    },
    {
     "name": "stderr",
     "output_type": "stream",
     "text": [
      "[ipykernel_launcher.py] /Users/benjamin/betse/betse/science/visual/visabc.py:1045: UserWarning: Matplotlib is currently using agg, which is a non-GUI backend, so cannot show the figure.\n",
      "  pyplot.pause(0.0001)\n",
      "\n"
     ]
    },
    {
     "name": "stdout",
     "output_type": "stream",
     "text": [
      "[ipykernel_launcher.py] time: 40.0 s of 500.0 s\n",
      "[ipykernel_launcher.py] Average Anion in the cell: 0.5435 mmol/L\n",
      "[ipykernel_launcher.py] Average Na  in the cell: 12.0 mmol/L\n",
      "[ipykernel_launcher.py] Average K  in the cell: 139.0 mmol/L\n",
      "[ipykernel_launcher.py] -------------------------------------------------------------------\n"
     ]
    },
    {
     "name": "stderr",
     "output_type": "stream",
     "text": [
      "[ipykernel_launcher.py] /Users/benjamin/betse/betse/science/visual/visabc.py:1045: UserWarning: Matplotlib is currently using agg, which is a non-GUI backend, so cannot show the figure.\n",
      "  pyplot.pause(0.0001)\n",
      "\n"
     ]
    },
    {
     "name": "stdout",
     "output_type": "stream",
     "text": [
      "[ipykernel_launcher.py] time: 45.0 s of 500.0 s\n",
      "[ipykernel_launcher.py] Average Anion in the cell: 0.5656 mmol/L\n",
      "[ipykernel_launcher.py] Average Na  in the cell: 12.0 mmol/L\n",
      "[ipykernel_launcher.py] Average K  in the cell: 139.0 mmol/L\n",
      "[ipykernel_launcher.py] -------------------------------------------------------------------\n"
     ]
    },
    {
     "name": "stderr",
     "output_type": "stream",
     "text": [
      "[ipykernel_launcher.py] /Users/benjamin/betse/betse/science/visual/visabc.py:1045: UserWarning: Matplotlib is currently using agg, which is a non-GUI backend, so cannot show the figure.\n",
      "  pyplot.pause(0.0001)\n",
      "\n"
     ]
    },
    {
     "name": "stdout",
     "output_type": "stream",
     "text": [
      "[ipykernel_launcher.py] time: 50.0 s of 500.0 s\n",
      "[ipykernel_launcher.py] Average Anion in the cell: 0.5866 mmol/L\n",
      "[ipykernel_launcher.py] Average Na  in the cell: 12.0 mmol/L\n",
      "[ipykernel_launcher.py] Average K  in the cell: 139.0 mmol/L\n",
      "[ipykernel_launcher.py] -------------------------------------------------------------------\n"
     ]
    },
    {
     "name": "stderr",
     "output_type": "stream",
     "text": [
      "[ipykernel_launcher.py] /Users/benjamin/betse/betse/science/visual/visabc.py:1045: UserWarning: Matplotlib is currently using agg, which is a non-GUI backend, so cannot show the figure.\n",
      "  pyplot.pause(0.0001)\n",
      "\n"
     ]
    },
    {
     "name": "stdout",
     "output_type": "stream",
     "text": [
      "[ipykernel_launcher.py] time: 55.0 s of 500.0 s\n",
      "[ipykernel_launcher.py] Average Anion in the cell: 0.6066 mmol/L\n",
      "[ipykernel_launcher.py] Average Na  in the cell: 12.0 mmol/L\n",
      "[ipykernel_launcher.py] Average K  in the cell: 139.0 mmol/L\n",
      "[ipykernel_launcher.py] -------------------------------------------------------------------\n"
     ]
    },
    {
     "name": "stderr",
     "output_type": "stream",
     "text": [
      "[ipykernel_launcher.py] /Users/benjamin/betse/betse/science/visual/visabc.py:1045: UserWarning: Matplotlib is currently using agg, which is a non-GUI backend, so cannot show the figure.\n",
      "  pyplot.pause(0.0001)\n",
      "\n"
     ]
    },
    {
     "name": "stdout",
     "output_type": "stream",
     "text": [
      "[ipykernel_launcher.py] time: 60.0 s of 500.0 s\n",
      "[ipykernel_launcher.py] Average Anion in the cell: 0.6256 mmol/L\n",
      "[ipykernel_launcher.py] Average Na  in the cell: 12.0 mmol/L\n",
      "[ipykernel_launcher.py] Average K  in the cell: 139.0 mmol/L\n",
      "[ipykernel_launcher.py] -------------------------------------------------------------------\n"
     ]
    },
    {
     "name": "stderr",
     "output_type": "stream",
     "text": [
      "[ipykernel_launcher.py] /Users/benjamin/betse/betse/science/visual/visabc.py:1045: UserWarning: Matplotlib is currently using agg, which is a non-GUI backend, so cannot show the figure.\n",
      "  pyplot.pause(0.0001)\n",
      "\n"
     ]
    },
    {
     "name": "stdout",
     "output_type": "stream",
     "text": [
      "[ipykernel_launcher.py] time: 65.0 s of 500.0 s\n",
      "[ipykernel_launcher.py] Average Anion in the cell: 0.6436 mmol/L\n",
      "[ipykernel_launcher.py] Average Na  in the cell: 12.0 mmol/L\n",
      "[ipykernel_launcher.py] Average K  in the cell: 139.0 mmol/L\n",
      "[ipykernel_launcher.py] -------------------------------------------------------------------\n"
     ]
    },
    {
     "name": "stderr",
     "output_type": "stream",
     "text": [
      "[ipykernel_launcher.py] /Users/benjamin/betse/betse/science/visual/visabc.py:1045: UserWarning: Matplotlib is currently using agg, which is a non-GUI backend, so cannot show the figure.\n",
      "  pyplot.pause(0.0001)\n",
      "\n"
     ]
    },
    {
     "name": "stdout",
     "output_type": "stream",
     "text": [
      "[ipykernel_launcher.py] time: 70.0 s of 500.0 s\n",
      "[ipykernel_launcher.py] Average Anion in the cell: 0.6607 mmol/L\n",
      "[ipykernel_launcher.py] Average Na  in the cell: 12.0 mmol/L\n",
      "[ipykernel_launcher.py] Average K  in the cell: 139.0 mmol/L\n",
      "[ipykernel_launcher.py] -------------------------------------------------------------------\n"
     ]
    },
    {
     "name": "stderr",
     "output_type": "stream",
     "text": [
      "[ipykernel_launcher.py] /Users/benjamin/betse/betse/science/visual/visabc.py:1045: UserWarning: Matplotlib is currently using agg, which is a non-GUI backend, so cannot show the figure.\n",
      "  pyplot.pause(0.0001)\n",
      "\n"
     ]
    },
    {
     "name": "stdout",
     "output_type": "stream",
     "text": [
      "[ipykernel_launcher.py] time: 75.0 s of 500.0 s\n",
      "[ipykernel_launcher.py] Average Anion in the cell: 0.6769 mmol/L\n",
      "[ipykernel_launcher.py] Average Na  in the cell: 12.0 mmol/L\n",
      "[ipykernel_launcher.py] Average K  in the cell: 139.0 mmol/L\n",
      "[ipykernel_launcher.py] -------------------------------------------------------------------\n"
     ]
    },
    {
     "name": "stderr",
     "output_type": "stream",
     "text": [
      "[ipykernel_launcher.py] /Users/benjamin/betse/betse/science/visual/visabc.py:1045: UserWarning: Matplotlib is currently using agg, which is a non-GUI backend, so cannot show the figure.\n",
      "  pyplot.pause(0.0001)\n",
      "\n"
     ]
    },
    {
     "name": "stdout",
     "output_type": "stream",
     "text": [
      "[ipykernel_launcher.py] time: 80.0 s of 500.0 s\n",
      "[ipykernel_launcher.py] Average Anion in the cell: 0.6923 mmol/L\n",
      "[ipykernel_launcher.py] Average Na  in the cell: 12.0 mmol/L\n",
      "[ipykernel_launcher.py] Average K  in the cell: 139.0 mmol/L\n",
      "[ipykernel_launcher.py] -------------------------------------------------------------------\n"
     ]
    },
    {
     "name": "stderr",
     "output_type": "stream",
     "text": [
      "[ipykernel_launcher.py] /Users/benjamin/betse/betse/science/visual/visabc.py:1045: UserWarning: Matplotlib is currently using agg, which is a non-GUI backend, so cannot show the figure.\n",
      "  pyplot.pause(0.0001)\n",
      "\n"
     ]
    },
    {
     "name": "stdout",
     "output_type": "stream",
     "text": [
      "[ipykernel_launcher.py] time: 85.0 s of 500.0 s\n",
      "[ipykernel_launcher.py] Average Anion in the cell: 0.707 mmol/L\n",
      "[ipykernel_launcher.py] Average Na  in the cell: 12.0 mmol/L\n",
      "[ipykernel_launcher.py] Average K  in the cell: 139.0 mmol/L\n",
      "[ipykernel_launcher.py] -------------------------------------------------------------------\n"
     ]
    },
    {
     "name": "stderr",
     "output_type": "stream",
     "text": [
      "[ipykernel_launcher.py] /Users/benjamin/betse/betse/science/visual/visabc.py:1045: UserWarning: Matplotlib is currently using agg, which is a non-GUI backend, so cannot show the figure.\n",
      "  pyplot.pause(0.0001)\n",
      "\n"
     ]
    },
    {
     "name": "stdout",
     "output_type": "stream",
     "text": [
      "[ipykernel_launcher.py] time: 90.0 s of 500.0 s\n",
      "[ipykernel_launcher.py] Average Anion in the cell: 0.7208 mmol/L\n",
      "[ipykernel_launcher.py] Average Na  in the cell: 12.0 mmol/L\n",
      "[ipykernel_launcher.py] Average K  in the cell: 139.0 mmol/L\n",
      "[ipykernel_launcher.py] -------------------------------------------------------------------\n"
     ]
    },
    {
     "name": "stderr",
     "output_type": "stream",
     "text": [
      "[ipykernel_launcher.py] /Users/benjamin/betse/betse/science/visual/visabc.py:1045: UserWarning: Matplotlib is currently using agg, which is a non-GUI backend, so cannot show the figure.\n",
      "  pyplot.pause(0.0001)\n",
      "\n"
     ]
    },
    {
     "name": "stdout",
     "output_type": "stream",
     "text": [
      "[ipykernel_launcher.py] time: 95.0 s of 500.0 s\n",
      "[ipykernel_launcher.py] Average Anion in the cell: 0.7339 mmol/L\n",
      "[ipykernel_launcher.py] Average Na  in the cell: 12.0 mmol/L\n",
      "[ipykernel_launcher.py] Average K  in the cell: 139.0 mmol/L\n",
      "[ipykernel_launcher.py] -------------------------------------------------------------------\n"
     ]
    },
    {
     "name": "stderr",
     "output_type": "stream",
     "text": [
      "[ipykernel_launcher.py] /Users/benjamin/betse/betse/science/visual/visabc.py:1045: UserWarning: Matplotlib is currently using agg, which is a non-GUI backend, so cannot show the figure.\n",
      "  pyplot.pause(0.0001)\n",
      "\n"
     ]
    },
    {
     "name": "stdout",
     "output_type": "stream",
     "text": [
      "[ipykernel_launcher.py] time: 100.0 s of 500.0 s\n",
      "[ipykernel_launcher.py] Average Anion in the cell: 0.7464 mmol/L\n",
      "[ipykernel_launcher.py] Average Na  in the cell: 12.0 mmol/L\n",
      "[ipykernel_launcher.py] Average K  in the cell: 139.0 mmol/L\n",
      "[ipykernel_launcher.py] -------------------------------------------------------------------\n"
     ]
    },
    {
     "name": "stderr",
     "output_type": "stream",
     "text": [
      "[ipykernel_launcher.py] /Users/benjamin/betse/betse/science/visual/visabc.py:1045: UserWarning: Matplotlib is currently using agg, which is a non-GUI backend, so cannot show the figure.\n",
      "  pyplot.pause(0.0001)\n",
      "\n"
     ]
    },
    {
     "name": "stdout",
     "output_type": "stream",
     "text": [
      "[ipykernel_launcher.py] time: 105.0 s of 500.0 s\n",
      "[ipykernel_launcher.py] Average Anion in the cell: 0.7582 mmol/L\n",
      "[ipykernel_launcher.py] Average Na  in the cell: 12.0 mmol/L\n",
      "[ipykernel_launcher.py] Average K  in the cell: 139.0 mmol/L\n",
      "[ipykernel_launcher.py] -------------------------------------------------------------------\n"
     ]
    },
    {
     "name": "stderr",
     "output_type": "stream",
     "text": [
      "[ipykernel_launcher.py] /Users/benjamin/betse/betse/science/visual/visabc.py:1045: UserWarning: Matplotlib is currently using agg, which is a non-GUI backend, so cannot show the figure.\n",
      "  pyplot.pause(0.0001)\n",
      "\n"
     ]
    },
    {
     "name": "stdout",
     "output_type": "stream",
     "text": [
      "[ipykernel_launcher.py] time: 110.0 s of 500.0 s\n",
      "[ipykernel_launcher.py] Average Anion in the cell: 0.7693 mmol/L\n",
      "[ipykernel_launcher.py] Average Na  in the cell: 12.0 mmol/L\n",
      "[ipykernel_launcher.py] Average K  in the cell: 139.0 mmol/L\n",
      "[ipykernel_launcher.py] -------------------------------------------------------------------\n"
     ]
    },
    {
     "name": "stderr",
     "output_type": "stream",
     "text": [
      "[ipykernel_launcher.py] /Users/benjamin/betse/betse/science/visual/visabc.py:1045: UserWarning: Matplotlib is currently using agg, which is a non-GUI backend, so cannot show the figure.\n",
      "  pyplot.pause(0.0001)\n",
      "\n"
     ]
    },
    {
     "name": "stdout",
     "output_type": "stream",
     "text": [
      "[ipykernel_launcher.py] time: 115.0 s of 500.0 s\n",
      "[ipykernel_launcher.py] Average Anion in the cell: 0.7798 mmol/L\n",
      "[ipykernel_launcher.py] Average Na  in the cell: 12.0 mmol/L\n",
      "[ipykernel_launcher.py] Average K  in the cell: 139.0 mmol/L\n",
      "[ipykernel_launcher.py] -------------------------------------------------------------------\n"
     ]
    },
    {
     "name": "stderr",
     "output_type": "stream",
     "text": [
      "[ipykernel_launcher.py] /Users/benjamin/betse/betse/science/visual/visabc.py:1045: UserWarning: Matplotlib is currently using agg, which is a non-GUI backend, so cannot show the figure.\n",
      "  pyplot.pause(0.0001)\n",
      "\n"
     ]
    },
    {
     "name": "stdout",
     "output_type": "stream",
     "text": [
      "[ipykernel_launcher.py] time: 120.0 s of 500.0 s\n",
      "[ipykernel_launcher.py] Average Anion in the cell: 0.7897 mmol/L\n",
      "[ipykernel_launcher.py] Average Na  in the cell: 12.0 mmol/L\n",
      "[ipykernel_launcher.py] Average K  in the cell: 139.0 mmol/L\n",
      "[ipykernel_launcher.py] -------------------------------------------------------------------\n"
     ]
    },
    {
     "name": "stderr",
     "output_type": "stream",
     "text": [
      "[ipykernel_launcher.py] /Users/benjamin/betse/betse/science/visual/visabc.py:1045: UserWarning: Matplotlib is currently using agg, which is a non-GUI backend, so cannot show the figure.\n",
      "  pyplot.pause(0.0001)\n",
      "\n"
     ]
    },
    {
     "name": "stdout",
     "output_type": "stream",
     "text": [
      "[ipykernel_launcher.py] time: 125.0 s of 500.0 s\n",
      "[ipykernel_launcher.py] Average Anion in the cell: 0.7991 mmol/L\n",
      "[ipykernel_launcher.py] Average Na  in the cell: 12.0 mmol/L\n",
      "[ipykernel_launcher.py] Average K  in the cell: 139.0 mmol/L\n",
      "[ipykernel_launcher.py] -------------------------------------------------------------------\n"
     ]
    },
    {
     "name": "stderr",
     "output_type": "stream",
     "text": [
      "[ipykernel_launcher.py] /Users/benjamin/betse/betse/science/visual/visabc.py:1045: UserWarning: Matplotlib is currently using agg, which is a non-GUI backend, so cannot show the figure.\n",
      "  pyplot.pause(0.0001)\n",
      "\n"
     ]
    },
    {
     "name": "stdout",
     "output_type": "stream",
     "text": [
      "[ipykernel_launcher.py] time: 130.0 s of 500.0 s\n",
      "[ipykernel_launcher.py] Average Anion in the cell: 0.808 mmol/L\n",
      "[ipykernel_launcher.py] Average Na  in the cell: 12.0 mmol/L\n",
      "[ipykernel_launcher.py] Average K  in the cell: 139.0 mmol/L\n",
      "[ipykernel_launcher.py] -------------------------------------------------------------------\n"
     ]
    },
    {
     "name": "stderr",
     "output_type": "stream",
     "text": [
      "[ipykernel_launcher.py] /Users/benjamin/betse/betse/science/visual/visabc.py:1045: UserWarning: Matplotlib is currently using agg, which is a non-GUI backend, so cannot show the figure.\n",
      "  pyplot.pause(0.0001)\n",
      "\n"
     ]
    },
    {
     "name": "stdout",
     "output_type": "stream",
     "text": [
      "[ipykernel_launcher.py] time: 135.0 s of 500.0 s\n",
      "[ipykernel_launcher.py] Average Anion in the cell: 0.8163 mmol/L\n",
      "[ipykernel_launcher.py] Average Na  in the cell: 12.0 mmol/L\n",
      "[ipykernel_launcher.py] Average K  in the cell: 139.0 mmol/L\n",
      "[ipykernel_launcher.py] -------------------------------------------------------------------\n"
     ]
    },
    {
     "name": "stderr",
     "output_type": "stream",
     "text": [
      "[ipykernel_launcher.py] /Users/benjamin/betse/betse/science/visual/visabc.py:1045: UserWarning: Matplotlib is currently using agg, which is a non-GUI backend, so cannot show the figure.\n",
      "  pyplot.pause(0.0001)\n",
      "\n"
     ]
    },
    {
     "name": "stdout",
     "output_type": "stream",
     "text": [
      "[ipykernel_launcher.py] time: 140.0 s of 500.0 s\n",
      "[ipykernel_launcher.py] Average Anion in the cell: 0.8242 mmol/L\n",
      "[ipykernel_launcher.py] Average Na  in the cell: 12.0 mmol/L\n",
      "[ipykernel_launcher.py] Average K  in the cell: 139.0 mmol/L\n",
      "[ipykernel_launcher.py] -------------------------------------------------------------------\n"
     ]
    },
    {
     "name": "stderr",
     "output_type": "stream",
     "text": [
      "[ipykernel_launcher.py] /Users/benjamin/betse/betse/science/visual/visabc.py:1045: UserWarning: Matplotlib is currently using agg, which is a non-GUI backend, so cannot show the figure.\n",
      "  pyplot.pause(0.0001)\n",
      "\n"
     ]
    },
    {
     "name": "stdout",
     "output_type": "stream",
     "text": [
      "[ipykernel_launcher.py] time: 145.0 s of 500.0 s\n",
      "[ipykernel_launcher.py] Average Anion in the cell: 0.8316 mmol/L\n",
      "[ipykernel_launcher.py] Average Na  in the cell: 12.0 mmol/L\n",
      "[ipykernel_launcher.py] Average K  in the cell: 139.0 mmol/L\n",
      "[ipykernel_launcher.py] -------------------------------------------------------------------\n"
     ]
    },
    {
     "name": "stderr",
     "output_type": "stream",
     "text": [
      "[ipykernel_launcher.py] /Users/benjamin/betse/betse/science/visual/visabc.py:1045: UserWarning: Matplotlib is currently using agg, which is a non-GUI backend, so cannot show the figure.\n",
      "  pyplot.pause(0.0001)\n",
      "\n"
     ]
    },
    {
     "name": "stdout",
     "output_type": "stream",
     "text": [
      "[ipykernel_launcher.py] time: 150.0 s of 500.0 s\n",
      "[ipykernel_launcher.py] Average Anion in the cell: 0.8386 mmol/L\n",
      "[ipykernel_launcher.py] Average Na  in the cell: 12.0 mmol/L\n",
      "[ipykernel_launcher.py] Average K  in the cell: 139.0 mmol/L\n",
      "[ipykernel_launcher.py] -------------------------------------------------------------------\n"
     ]
    },
    {
     "name": "stderr",
     "output_type": "stream",
     "text": [
      "[ipykernel_launcher.py] /Users/benjamin/betse/betse/science/visual/visabc.py:1045: UserWarning: Matplotlib is currently using agg, which is a non-GUI backend, so cannot show the figure.\n",
      "  pyplot.pause(0.0001)\n",
      "\n"
     ]
    },
    {
     "name": "stdout",
     "output_type": "stream",
     "text": [
      "[ipykernel_launcher.py] time: 155.0 s of 500.0 s\n",
      "[ipykernel_launcher.py] Average Anion in the cell: 0.8452 mmol/L\n",
      "[ipykernel_launcher.py] Average Na  in the cell: 12.0 mmol/L\n",
      "[ipykernel_launcher.py] Average K  in the cell: 139.0 mmol/L\n",
      "[ipykernel_launcher.py] -------------------------------------------------------------------\n"
     ]
    },
    {
     "name": "stderr",
     "output_type": "stream",
     "text": [
      "[ipykernel_launcher.py] /Users/benjamin/betse/betse/science/visual/visabc.py:1045: UserWarning: Matplotlib is currently using agg, which is a non-GUI backend, so cannot show the figure.\n",
      "  pyplot.pause(0.0001)\n",
      "\n"
     ]
    },
    {
     "name": "stdout",
     "output_type": "stream",
     "text": [
      "[ipykernel_launcher.py] time: 160.0 s of 500.0 s\n",
      "[ipykernel_launcher.py] Average Anion in the cell: 0.8514 mmol/L\n",
      "[ipykernel_launcher.py] Average Na  in the cell: 12.0 mmol/L\n",
      "[ipykernel_launcher.py] Average K  in the cell: 139.0 mmol/L\n",
      "[ipykernel_launcher.py] -------------------------------------------------------------------\n"
     ]
    },
    {
     "name": "stderr",
     "output_type": "stream",
     "text": [
      "[ipykernel_launcher.py] /Users/benjamin/betse/betse/science/visual/visabc.py:1045: UserWarning: Matplotlib is currently using agg, which is a non-GUI backend, so cannot show the figure.\n",
      "  pyplot.pause(0.0001)\n",
      "\n"
     ]
    },
    {
     "name": "stdout",
     "output_type": "stream",
     "text": [
      "[ipykernel_launcher.py] time: 165.0 s of 500.0 s\n",
      "[ipykernel_launcher.py] Average Anion in the cell: 0.8573 mmol/L\n",
      "[ipykernel_launcher.py] Average Na  in the cell: 12.0 mmol/L\n",
      "[ipykernel_launcher.py] Average K  in the cell: 139.0 mmol/L\n",
      "[ipykernel_launcher.py] -------------------------------------------------------------------\n"
     ]
    },
    {
     "name": "stderr",
     "output_type": "stream",
     "text": [
      "[ipykernel_launcher.py] /Users/benjamin/betse/betse/science/visual/visabc.py:1045: UserWarning: Matplotlib is currently using agg, which is a non-GUI backend, so cannot show the figure.\n",
      "  pyplot.pause(0.0001)\n",
      "\n"
     ]
    },
    {
     "name": "stdout",
     "output_type": "stream",
     "text": [
      "[ipykernel_launcher.py] time: 170.0 s of 500.0 s\n",
      "[ipykernel_launcher.py] Average Anion in the cell: 0.8628 mmol/L\n",
      "[ipykernel_launcher.py] Average Na  in the cell: 12.0 mmol/L\n",
      "[ipykernel_launcher.py] Average K  in the cell: 139.0 mmol/L\n",
      "[ipykernel_launcher.py] -------------------------------------------------------------------\n"
     ]
    },
    {
     "name": "stderr",
     "output_type": "stream",
     "text": [
      "[ipykernel_launcher.py] /Users/benjamin/betse/betse/science/visual/visabc.py:1045: UserWarning: Matplotlib is currently using agg, which is a non-GUI backend, so cannot show the figure.\n",
      "  pyplot.pause(0.0001)\n",
      "\n"
     ]
    },
    {
     "name": "stdout",
     "output_type": "stream",
     "text": [
      "[ipykernel_launcher.py] time: 175.0 s of 500.0 s\n",
      "[ipykernel_launcher.py] Average Anion in the cell: 0.868 mmol/L\n",
      "[ipykernel_launcher.py] Average Na  in the cell: 12.0 mmol/L\n",
      "[ipykernel_launcher.py] Average K  in the cell: 139.0 mmol/L\n",
      "[ipykernel_launcher.py] -------------------------------------------------------------------\n"
     ]
    },
    {
     "name": "stderr",
     "output_type": "stream",
     "text": [
      "[ipykernel_launcher.py] /Users/benjamin/betse/betse/science/visual/visabc.py:1045: UserWarning: Matplotlib is currently using agg, which is a non-GUI backend, so cannot show the figure.\n",
      "  pyplot.pause(0.0001)\n",
      "\n"
     ]
    },
    {
     "name": "stdout",
     "output_type": "stream",
     "text": [
      "[ipykernel_launcher.py] time: 180.0 s of 500.0 s\n",
      "[ipykernel_launcher.py] Average Anion in the cell: 0.8728 mmol/L\n",
      "[ipykernel_launcher.py] Average Na  in the cell: 12.0 mmol/L\n",
      "[ipykernel_launcher.py] Average K  in the cell: 139.0 mmol/L\n",
      "[ipykernel_launcher.py] -------------------------------------------------------------------\n"
     ]
    },
    {
     "name": "stderr",
     "output_type": "stream",
     "text": [
      "[ipykernel_launcher.py] /Users/benjamin/betse/betse/science/visual/visabc.py:1045: UserWarning: Matplotlib is currently using agg, which is a non-GUI backend, so cannot show the figure.\n",
      "  pyplot.pause(0.0001)\n",
      "\n"
     ]
    },
    {
     "name": "stdout",
     "output_type": "stream",
     "text": [
      "[ipykernel_launcher.py] time: 185.0 s of 500.0 s\n",
      "[ipykernel_launcher.py] Average Anion in the cell: 0.8774 mmol/L\n",
      "[ipykernel_launcher.py] Average Na  in the cell: 12.0 mmol/L\n",
      "[ipykernel_launcher.py] Average K  in the cell: 139.0 mmol/L\n",
      "[ipykernel_launcher.py] -------------------------------------------------------------------\n"
     ]
    },
    {
     "name": "stderr",
     "output_type": "stream",
     "text": [
      "[ipykernel_launcher.py] /Users/benjamin/betse/betse/science/visual/visabc.py:1045: UserWarning: Matplotlib is currently using agg, which is a non-GUI backend, so cannot show the figure.\n",
      "  pyplot.pause(0.0001)\n",
      "\n"
     ]
    },
    {
     "name": "stdout",
     "output_type": "stream",
     "text": [
      "[ipykernel_launcher.py] time: 190.0 s of 500.0 s\n",
      "[ipykernel_launcher.py] Average Anion in the cell: 0.8818 mmol/L\n",
      "[ipykernel_launcher.py] Average Na  in the cell: 12.0 mmol/L\n",
      "[ipykernel_launcher.py] Average K  in the cell: 139.0 mmol/L\n",
      "[ipykernel_launcher.py] -------------------------------------------------------------------\n"
     ]
    },
    {
     "name": "stderr",
     "output_type": "stream",
     "text": [
      "[ipykernel_launcher.py] /Users/benjamin/betse/betse/science/visual/visabc.py:1045: UserWarning: Matplotlib is currently using agg, which is a non-GUI backend, so cannot show the figure.\n",
      "  pyplot.pause(0.0001)\n",
      "\n"
     ]
    },
    {
     "name": "stdout",
     "output_type": "stream",
     "text": [
      "[ipykernel_launcher.py] time: 195.0 s of 500.0 s\n",
      "[ipykernel_launcher.py] Average Anion in the cell: 0.8859 mmol/L\n",
      "[ipykernel_launcher.py] Average Na  in the cell: 12.0 mmol/L\n",
      "[ipykernel_launcher.py] Average K  in the cell: 139.0 mmol/L\n",
      "[ipykernel_launcher.py] -------------------------------------------------------------------\n"
     ]
    },
    {
     "name": "stderr",
     "output_type": "stream",
     "text": [
      "[ipykernel_launcher.py] /Users/benjamin/betse/betse/science/visual/visabc.py:1045: UserWarning: Matplotlib is currently using agg, which is a non-GUI backend, so cannot show the figure.\n",
      "  pyplot.pause(0.0001)\n",
      "\n"
     ]
    },
    {
     "name": "stdout",
     "output_type": "stream",
     "text": [
      "[ipykernel_launcher.py] time: 200.0 s of 500.0 s\n",
      "[ipykernel_launcher.py] Average Anion in the cell: 0.8899 mmol/L\n",
      "[ipykernel_launcher.py] Average Na  in the cell: 12.0 mmol/L\n",
      "[ipykernel_launcher.py] Average K  in the cell: 139.0 mmol/L\n",
      "[ipykernel_launcher.py] -------------------------------------------------------------------\n"
     ]
    },
    {
     "name": "stderr",
     "output_type": "stream",
     "text": [
      "[ipykernel_launcher.py] /Users/benjamin/betse/betse/science/visual/visabc.py:1045: UserWarning: Matplotlib is currently using agg, which is a non-GUI backend, so cannot show the figure.\n",
      "  pyplot.pause(0.0001)\n",
      "\n"
     ]
    },
    {
     "name": "stdout",
     "output_type": "stream",
     "text": [
      "[ipykernel_launcher.py] time: 205.0 s of 500.0 s\n",
      "[ipykernel_launcher.py] Average Anion in the cell: 0.8938 mmol/L\n",
      "[ipykernel_launcher.py] Average Na  in the cell: 12.0 mmol/L\n",
      "[ipykernel_launcher.py] Average K  in the cell: 139.0 mmol/L\n",
      "[ipykernel_launcher.py] -------------------------------------------------------------------\n"
     ]
    },
    {
     "name": "stderr",
     "output_type": "stream",
     "text": [
      "[ipykernel_launcher.py] /Users/benjamin/betse/betse/science/visual/visabc.py:1045: UserWarning: Matplotlib is currently using agg, which is a non-GUI backend, so cannot show the figure.\n",
      "  pyplot.pause(0.0001)\n",
      "\n"
     ]
    },
    {
     "name": "stdout",
     "output_type": "stream",
     "text": [
      "[ipykernel_launcher.py] time: 210.0 s of 500.0 s\n",
      "[ipykernel_launcher.py] Average Anion in the cell: 0.8975 mmol/L\n",
      "[ipykernel_launcher.py] Average Na  in the cell: 12.0 mmol/L\n",
      "[ipykernel_launcher.py] Average K  in the cell: 139.0 mmol/L\n",
      "[ipykernel_launcher.py] -------------------------------------------------------------------\n"
     ]
    },
    {
     "name": "stderr",
     "output_type": "stream",
     "text": [
      "[ipykernel_launcher.py] /Users/benjamin/betse/betse/science/visual/visabc.py:1045: UserWarning: Matplotlib is currently using agg, which is a non-GUI backend, so cannot show the figure.\n",
      "  pyplot.pause(0.0001)\n",
      "\n"
     ]
    },
    {
     "name": "stdout",
     "output_type": "stream",
     "text": [
      "[ipykernel_launcher.py] time: 215.0 s of 500.0 s\n",
      "[ipykernel_launcher.py] Average Anion in the cell: 0.9012 mmol/L\n",
      "[ipykernel_launcher.py] Average Na  in the cell: 12.0 mmol/L\n",
      "[ipykernel_launcher.py] Average K  in the cell: 139.0 mmol/L\n",
      "[ipykernel_launcher.py] -------------------------------------------------------------------\n"
     ]
    },
    {
     "name": "stderr",
     "output_type": "stream",
     "text": [
      "[ipykernel_launcher.py] /Users/benjamin/betse/betse/science/visual/visabc.py:1045: UserWarning: Matplotlib is currently using agg, which is a non-GUI backend, so cannot show the figure.\n",
      "  pyplot.pause(0.0001)\n",
      "\n"
     ]
    },
    {
     "name": "stdout",
     "output_type": "stream",
     "text": [
      "[ipykernel_launcher.py] time: 220.0 s of 500.0 s\n",
      "[ipykernel_launcher.py] Average Anion in the cell: 0.9047 mmol/L\n",
      "[ipykernel_launcher.py] Average Na  in the cell: 12.0 mmol/L\n",
      "[ipykernel_launcher.py] Average K  in the cell: 139.0 mmol/L\n",
      "[ipykernel_launcher.py] -------------------------------------------------------------------\n"
     ]
    },
    {
     "name": "stderr",
     "output_type": "stream",
     "text": [
      "[ipykernel_launcher.py] /Users/benjamin/betse/betse/science/visual/visabc.py:1045: UserWarning: Matplotlib is currently using agg, which is a non-GUI backend, so cannot show the figure.\n",
      "  pyplot.pause(0.0001)\n",
      "\n"
     ]
    },
    {
     "name": "stdout",
     "output_type": "stream",
     "text": [
      "[ipykernel_launcher.py] time: 225.0 s of 500.0 s\n",
      "[ipykernel_launcher.py] Average Anion in the cell: 0.9082 mmol/L\n",
      "[ipykernel_launcher.py] Average Na  in the cell: 12.0 mmol/L\n",
      "[ipykernel_launcher.py] Average K  in the cell: 139.0 mmol/L\n",
      "[ipykernel_launcher.py] -------------------------------------------------------------------\n"
     ]
    },
    {
     "name": "stderr",
     "output_type": "stream",
     "text": [
      "[ipykernel_launcher.py] /Users/benjamin/betse/betse/science/visual/visabc.py:1045: UserWarning: Matplotlib is currently using agg, which is a non-GUI backend, so cannot show the figure.\n",
      "  pyplot.pause(0.0001)\n",
      "\n"
     ]
    },
    {
     "name": "stdout",
     "output_type": "stream",
     "text": [
      "[ipykernel_launcher.py] time: 230.0 s of 500.0 s\n",
      "[ipykernel_launcher.py] Average Anion in the cell: 0.9116 mmol/L\n",
      "[ipykernel_launcher.py] Average Na  in the cell: 12.0 mmol/L\n",
      "[ipykernel_launcher.py] Average K  in the cell: 139.0 mmol/L\n",
      "[ipykernel_launcher.py] -------------------------------------------------------------------\n"
     ]
    },
    {
     "name": "stderr",
     "output_type": "stream",
     "text": [
      "[ipykernel_launcher.py] /Users/benjamin/betse/betse/science/visual/visabc.py:1045: UserWarning: Matplotlib is currently using agg, which is a non-GUI backend, so cannot show the figure.\n",
      "  pyplot.pause(0.0001)\n",
      "\n"
     ]
    },
    {
     "name": "stdout",
     "output_type": "stream",
     "text": [
      "[ipykernel_launcher.py] time: 235.0 s of 500.0 s\n",
      "[ipykernel_launcher.py] Average Anion in the cell: 0.9149 mmol/L\n",
      "[ipykernel_launcher.py] Average Na  in the cell: 12.0 mmol/L\n",
      "[ipykernel_launcher.py] Average K  in the cell: 139.0 mmol/L\n",
      "[ipykernel_launcher.py] -------------------------------------------------------------------\n"
     ]
    },
    {
     "name": "stderr",
     "output_type": "stream",
     "text": [
      "[ipykernel_launcher.py] /Users/benjamin/betse/betse/science/visual/visabc.py:1045: UserWarning: Matplotlib is currently using agg, which is a non-GUI backend, so cannot show the figure.\n",
      "  pyplot.pause(0.0001)\n",
      "\n"
     ]
    },
    {
     "name": "stdout",
     "output_type": "stream",
     "text": [
      "[ipykernel_launcher.py] time: 240.0 s of 500.0 s\n",
      "[ipykernel_launcher.py] Average Anion in the cell: 0.918 mmol/L\n",
      "[ipykernel_launcher.py] Average Na  in the cell: 12.0 mmol/L\n",
      "[ipykernel_launcher.py] Average K  in the cell: 139.0 mmol/L\n",
      "[ipykernel_launcher.py] -------------------------------------------------------------------\n"
     ]
    },
    {
     "name": "stderr",
     "output_type": "stream",
     "text": [
      "[ipykernel_launcher.py] /Users/benjamin/betse/betse/science/visual/visabc.py:1045: UserWarning: Matplotlib is currently using agg, which is a non-GUI backend, so cannot show the figure.\n",
      "  pyplot.pause(0.0001)\n",
      "\n"
     ]
    },
    {
     "name": "stdout",
     "output_type": "stream",
     "text": [
      "[ipykernel_launcher.py] time: 245.0 s of 500.0 s\n",
      "[ipykernel_launcher.py] Average Anion in the cell: 0.9211 mmol/L\n",
      "[ipykernel_launcher.py] Average Na  in the cell: 12.0 mmol/L\n",
      "[ipykernel_launcher.py] Average K  in the cell: 139.0 mmol/L\n",
      "[ipykernel_launcher.py] -------------------------------------------------------------------\n"
     ]
    },
    {
     "name": "stderr",
     "output_type": "stream",
     "text": [
      "[ipykernel_launcher.py] /Users/benjamin/betse/betse/science/visual/visabc.py:1045: UserWarning: Matplotlib is currently using agg, which is a non-GUI backend, so cannot show the figure.\n",
      "  pyplot.pause(0.0001)\n",
      "\n"
     ]
    },
    {
     "name": "stdout",
     "output_type": "stream",
     "text": [
      "[ipykernel_launcher.py] time: 250.01 s of 500.0 s\n",
      "[ipykernel_launcher.py] Average Anion in the cell: 0.924 mmol/L\n",
      "[ipykernel_launcher.py] Average Na  in the cell: 12.0 mmol/L\n",
      "[ipykernel_launcher.py] Average K  in the cell: 139.0 mmol/L\n",
      "[ipykernel_launcher.py] -------------------------------------------------------------------\n"
     ]
    },
    {
     "name": "stderr",
     "output_type": "stream",
     "text": [
      "[ipykernel_launcher.py] /Users/benjamin/betse/betse/science/visual/visabc.py:1045: UserWarning: Matplotlib is currently using agg, which is a non-GUI backend, so cannot show the figure.\n",
      "  pyplot.pause(0.0001)\n",
      "\n"
     ]
    },
    {
     "name": "stdout",
     "output_type": "stream",
     "text": [
      "[ipykernel_launcher.py] time: 255.01 s of 500.0 s\n",
      "[ipykernel_launcher.py] Average Anion in the cell: 0.9269 mmol/L\n",
      "[ipykernel_launcher.py] Average Na  in the cell: 12.0 mmol/L\n",
      "[ipykernel_launcher.py] Average K  in the cell: 139.0 mmol/L\n",
      "[ipykernel_launcher.py] -------------------------------------------------------------------\n"
     ]
    },
    {
     "name": "stderr",
     "output_type": "stream",
     "text": [
      "[ipykernel_launcher.py] /Users/benjamin/betse/betse/science/visual/visabc.py:1045: UserWarning: Matplotlib is currently using agg, which is a non-GUI backend, so cannot show the figure.\n",
      "  pyplot.pause(0.0001)\n",
      "\n"
     ]
    },
    {
     "name": "stdout",
     "output_type": "stream",
     "text": [
      "[ipykernel_launcher.py] time: 260.01 s of 500.0 s\n",
      "[ipykernel_launcher.py] Average Anion in the cell: 0.9296 mmol/L\n",
      "[ipykernel_launcher.py] Average Na  in the cell: 12.0 mmol/L\n",
      "[ipykernel_launcher.py] Average K  in the cell: 139.0 mmol/L\n",
      "[ipykernel_launcher.py] -------------------------------------------------------------------\n"
     ]
    },
    {
     "name": "stderr",
     "output_type": "stream",
     "text": [
      "[ipykernel_launcher.py] /Users/benjamin/betse/betse/science/visual/visabc.py:1045: UserWarning: Matplotlib is currently using agg, which is a non-GUI backend, so cannot show the figure.\n",
      "  pyplot.pause(0.0001)\n",
      "\n"
     ]
    },
    {
     "name": "stdout",
     "output_type": "stream",
     "text": [
      "[ipykernel_launcher.py] time: 265.01 s of 500.0 s\n",
      "[ipykernel_launcher.py] Average Anion in the cell: 0.9321 mmol/L\n",
      "[ipykernel_launcher.py] Average Na  in the cell: 12.0 mmol/L\n",
      "[ipykernel_launcher.py] Average K  in the cell: 139.0 mmol/L\n",
      "[ipykernel_launcher.py] -------------------------------------------------------------------\n"
     ]
    },
    {
     "name": "stderr",
     "output_type": "stream",
     "text": [
      "[ipykernel_launcher.py] /Users/benjamin/betse/betse/science/visual/visabc.py:1045: UserWarning: Matplotlib is currently using agg, which is a non-GUI backend, so cannot show the figure.\n",
      "  pyplot.pause(0.0001)\n",
      "\n"
     ]
    },
    {
     "name": "stdout",
     "output_type": "stream",
     "text": [
      "[ipykernel_launcher.py] time: 270.01 s of 500.0 s\n",
      "[ipykernel_launcher.py] Average Anion in the cell: 0.9346 mmol/L\n",
      "[ipykernel_launcher.py] Average Na  in the cell: 12.0 mmol/L\n",
      "[ipykernel_launcher.py] Average K  in the cell: 139.0 mmol/L\n",
      "[ipykernel_launcher.py] -------------------------------------------------------------------\n"
     ]
    },
    {
     "name": "stderr",
     "output_type": "stream",
     "text": [
      "[ipykernel_launcher.py] /Users/benjamin/betse/betse/science/visual/visabc.py:1045: UserWarning: Matplotlib is currently using agg, which is a non-GUI backend, so cannot show the figure.\n",
      "  pyplot.pause(0.0001)\n",
      "\n"
     ]
    },
    {
     "name": "stdout",
     "output_type": "stream",
     "text": [
      "[ipykernel_launcher.py] time: 275.01 s of 500.0 s\n",
      "[ipykernel_launcher.py] Average Anion in the cell: 0.937 mmol/L\n",
      "[ipykernel_launcher.py] Average Na  in the cell: 12.0 mmol/L\n",
      "[ipykernel_launcher.py] Average K  in the cell: 139.0 mmol/L\n",
      "[ipykernel_launcher.py] -------------------------------------------------------------------\n"
     ]
    },
    {
     "name": "stderr",
     "output_type": "stream",
     "text": [
      "[ipykernel_launcher.py] /Users/benjamin/betse/betse/science/visual/visabc.py:1045: UserWarning: Matplotlib is currently using agg, which is a non-GUI backend, so cannot show the figure.\n",
      "  pyplot.pause(0.0001)\n",
      "\n"
     ]
    },
    {
     "name": "stdout",
     "output_type": "stream",
     "text": [
      "[ipykernel_launcher.py] time: 280.01 s of 500.0 s\n",
      "[ipykernel_launcher.py] Average Anion in the cell: 0.9393 mmol/L\n",
      "[ipykernel_launcher.py] Average Na  in the cell: 12.0 mmol/L\n",
      "[ipykernel_launcher.py] Average K  in the cell: 139.0 mmol/L\n",
      "[ipykernel_launcher.py] -------------------------------------------------------------------\n"
     ]
    },
    {
     "name": "stderr",
     "output_type": "stream",
     "text": [
      "[ipykernel_launcher.py] /Users/benjamin/betse/betse/science/visual/visabc.py:1045: UserWarning: Matplotlib is currently using agg, which is a non-GUI backend, so cannot show the figure.\n",
      "  pyplot.pause(0.0001)\n",
      "\n"
     ]
    },
    {
     "name": "stdout",
     "output_type": "stream",
     "text": [
      "[ipykernel_launcher.py] time: 285.01 s of 500.0 s\n",
      "[ipykernel_launcher.py] Average Anion in the cell: 0.9414 mmol/L\n",
      "[ipykernel_launcher.py] Average Na  in the cell: 12.0 mmol/L\n",
      "[ipykernel_launcher.py] Average K  in the cell: 139.0 mmol/L\n",
      "[ipykernel_launcher.py] -------------------------------------------------------------------\n"
     ]
    },
    {
     "name": "stderr",
     "output_type": "stream",
     "text": [
      "[ipykernel_launcher.py] /Users/benjamin/betse/betse/science/visual/visabc.py:1045: UserWarning: Matplotlib is currently using agg, which is a non-GUI backend, so cannot show the figure.\n",
      "  pyplot.pause(0.0001)\n",
      "\n"
     ]
    },
    {
     "name": "stdout",
     "output_type": "stream",
     "text": [
      "[ipykernel_launcher.py] time: 290.01 s of 500.0 s\n",
      "[ipykernel_launcher.py] Average Anion in the cell: 0.9435 mmol/L\n",
      "[ipykernel_launcher.py] Average Na  in the cell: 12.0 mmol/L\n",
      "[ipykernel_launcher.py] Average K  in the cell: 139.0 mmol/L\n",
      "[ipykernel_launcher.py] -------------------------------------------------------------------\n"
     ]
    },
    {
     "name": "stderr",
     "output_type": "stream",
     "text": [
      "[ipykernel_launcher.py] /Users/benjamin/betse/betse/science/visual/visabc.py:1045: UserWarning: Matplotlib is currently using agg, which is a non-GUI backend, so cannot show the figure.\n",
      "  pyplot.pause(0.0001)\n",
      "\n"
     ]
    },
    {
     "name": "stdout",
     "output_type": "stream",
     "text": [
      "[ipykernel_launcher.py] time: 295.01 s of 500.0 s\n",
      "[ipykernel_launcher.py] Average Anion in the cell: 0.9455 mmol/L\n",
      "[ipykernel_launcher.py] Average Na  in the cell: 12.0 mmol/L\n",
      "[ipykernel_launcher.py] Average K  in the cell: 139.0 mmol/L\n",
      "[ipykernel_launcher.py] -------------------------------------------------------------------\n"
     ]
    },
    {
     "name": "stderr",
     "output_type": "stream",
     "text": [
      "[ipykernel_launcher.py] /Users/benjamin/betse/betse/science/visual/visabc.py:1045: UserWarning: Matplotlib is currently using agg, which is a non-GUI backend, so cannot show the figure.\n",
      "  pyplot.pause(0.0001)\n",
      "\n"
     ]
    },
    {
     "name": "stdout",
     "output_type": "stream",
     "text": [
      "[ipykernel_launcher.py] time: 300.01 s of 500.0 s\n",
      "[ipykernel_launcher.py] Average Anion in the cell: 0.9474 mmol/L\n",
      "[ipykernel_launcher.py] Average Na  in the cell: 12.0 mmol/L\n",
      "[ipykernel_launcher.py] Average K  in the cell: 139.0 mmol/L\n",
      "[ipykernel_launcher.py] -------------------------------------------------------------------\n"
     ]
    },
    {
     "name": "stderr",
     "output_type": "stream",
     "text": [
      "[ipykernel_launcher.py] /Users/benjamin/betse/betse/science/visual/visabc.py:1045: UserWarning: Matplotlib is currently using agg, which is a non-GUI backend, so cannot show the figure.\n",
      "  pyplot.pause(0.0001)\n",
      "\n"
     ]
    },
    {
     "name": "stdout",
     "output_type": "stream",
     "text": [
      "[ipykernel_launcher.py] time: 305.01 s of 500.0 s\n",
      "[ipykernel_launcher.py] Average Anion in the cell: 0.9492 mmol/L\n",
      "[ipykernel_launcher.py] Average Na  in the cell: 12.0 mmol/L\n",
      "[ipykernel_launcher.py] Average K  in the cell: 139.0 mmol/L\n",
      "[ipykernel_launcher.py] -------------------------------------------------------------------\n"
     ]
    },
    {
     "name": "stderr",
     "output_type": "stream",
     "text": [
      "[ipykernel_launcher.py] /Users/benjamin/betse/betse/science/visual/visabc.py:1045: UserWarning: Matplotlib is currently using agg, which is a non-GUI backend, so cannot show the figure.\n",
      "  pyplot.pause(0.0001)\n",
      "\n"
     ]
    },
    {
     "name": "stdout",
     "output_type": "stream",
     "text": [
      "[ipykernel_launcher.py] time: 310.01 s of 500.0 s\n",
      "[ipykernel_launcher.py] Average Anion in the cell: 0.9509 mmol/L\n",
      "[ipykernel_launcher.py] Average Na  in the cell: 12.0 mmol/L\n",
      "[ipykernel_launcher.py] Average K  in the cell: 139.0 mmol/L\n",
      "[ipykernel_launcher.py] -------------------------------------------------------------------\n"
     ]
    },
    {
     "name": "stderr",
     "output_type": "stream",
     "text": [
      "[ipykernel_launcher.py] /Users/benjamin/betse/betse/science/visual/visabc.py:1045: UserWarning: Matplotlib is currently using agg, which is a non-GUI backend, so cannot show the figure.\n",
      "  pyplot.pause(0.0001)\n",
      "\n"
     ]
    },
    {
     "name": "stdout",
     "output_type": "stream",
     "text": [
      "[ipykernel_launcher.py] time: 315.01 s of 500.0 s\n",
      "[ipykernel_launcher.py] Average Anion in the cell: 0.9525 mmol/L\n",
      "[ipykernel_launcher.py] Average Na  in the cell: 12.0 mmol/L\n",
      "[ipykernel_launcher.py] Average K  in the cell: 139.0 mmol/L\n",
      "[ipykernel_launcher.py] -------------------------------------------------------------------\n"
     ]
    },
    {
     "name": "stderr",
     "output_type": "stream",
     "text": [
      "[ipykernel_launcher.py] /Users/benjamin/betse/betse/science/visual/visabc.py:1045: UserWarning: Matplotlib is currently using agg, which is a non-GUI backend, so cannot show the figure.\n",
      "  pyplot.pause(0.0001)\n",
      "\n"
     ]
    },
    {
     "name": "stdout",
     "output_type": "stream",
     "text": [
      "[ipykernel_launcher.py] time: 320.01 s of 500.0 s\n",
      "[ipykernel_launcher.py] Average Anion in the cell: 0.954 mmol/L\n",
      "[ipykernel_launcher.py] Average Na  in the cell: 12.0 mmol/L\n",
      "[ipykernel_launcher.py] Average K  in the cell: 139.0 mmol/L\n",
      "[ipykernel_launcher.py] -------------------------------------------------------------------\n"
     ]
    },
    {
     "name": "stderr",
     "output_type": "stream",
     "text": [
      "[ipykernel_launcher.py] /Users/benjamin/betse/betse/science/visual/visabc.py:1045: UserWarning: Matplotlib is currently using agg, which is a non-GUI backend, so cannot show the figure.\n",
      "  pyplot.pause(0.0001)\n",
      "\n"
     ]
    },
    {
     "name": "stdout",
     "output_type": "stream",
     "text": [
      "[ipykernel_launcher.py] time: 325.01 s of 500.0 s\n",
      "[ipykernel_launcher.py] Average Anion in the cell: 0.9555 mmol/L\n",
      "[ipykernel_launcher.py] Average Na  in the cell: 12.0 mmol/L\n",
      "[ipykernel_launcher.py] Average K  in the cell: 139.0 mmol/L\n",
      "[ipykernel_launcher.py] -------------------------------------------------------------------\n"
     ]
    },
    {
     "name": "stderr",
     "output_type": "stream",
     "text": [
      "[ipykernel_launcher.py] /Users/benjamin/betse/betse/science/visual/visabc.py:1045: UserWarning: Matplotlib is currently using agg, which is a non-GUI backend, so cannot show the figure.\n",
      "  pyplot.pause(0.0001)\n",
      "\n"
     ]
    },
    {
     "name": "stdout",
     "output_type": "stream",
     "text": [
      "[ipykernel_launcher.py] time: 330.01 s of 500.0 s\n",
      "[ipykernel_launcher.py] Average Anion in the cell: 0.9569 mmol/L\n",
      "[ipykernel_launcher.py] Average Na  in the cell: 12.0 mmol/L\n",
      "[ipykernel_launcher.py] Average K  in the cell: 139.0 mmol/L\n",
      "[ipykernel_launcher.py] -------------------------------------------------------------------\n"
     ]
    },
    {
     "name": "stderr",
     "output_type": "stream",
     "text": [
      "[ipykernel_launcher.py] /Users/benjamin/betse/betse/science/visual/visabc.py:1045: UserWarning: Matplotlib is currently using agg, which is a non-GUI backend, so cannot show the figure.\n",
      "  pyplot.pause(0.0001)\n",
      "\n"
     ]
    },
    {
     "name": "stdout",
     "output_type": "stream",
     "text": [
      "[ipykernel_launcher.py] time: 335.01 s of 500.0 s\n",
      "[ipykernel_launcher.py] Average Anion in the cell: 0.9582 mmol/L\n",
      "[ipykernel_launcher.py] Average Na  in the cell: 12.0 mmol/L\n",
      "[ipykernel_launcher.py] Average K  in the cell: 139.0 mmol/L\n",
      "[ipykernel_launcher.py] -------------------------------------------------------------------\n"
     ]
    },
    {
     "name": "stderr",
     "output_type": "stream",
     "text": [
      "[ipykernel_launcher.py] /Users/benjamin/betse/betse/science/visual/visabc.py:1045: UserWarning: Matplotlib is currently using agg, which is a non-GUI backend, so cannot show the figure.\n",
      "  pyplot.pause(0.0001)\n",
      "\n"
     ]
    },
    {
     "name": "stdout",
     "output_type": "stream",
     "text": [
      "[ipykernel_launcher.py] time: 340.01 s of 500.0 s\n",
      "[ipykernel_launcher.py] Average Anion in the cell: 0.9595 mmol/L\n",
      "[ipykernel_launcher.py] Average Na  in the cell: 12.0 mmol/L\n",
      "[ipykernel_launcher.py] Average K  in the cell: 139.0 mmol/L\n",
      "[ipykernel_launcher.py] -------------------------------------------------------------------\n"
     ]
    },
    {
     "name": "stderr",
     "output_type": "stream",
     "text": [
      "[ipykernel_launcher.py] /Users/benjamin/betse/betse/science/visual/visabc.py:1045: UserWarning: Matplotlib is currently using agg, which is a non-GUI backend, so cannot show the figure.\n",
      "  pyplot.pause(0.0001)\n",
      "\n"
     ]
    },
    {
     "name": "stdout",
     "output_type": "stream",
     "text": [
      "[ipykernel_launcher.py] time: 345.01 s of 500.0 s\n",
      "[ipykernel_launcher.py] Average Anion in the cell: 0.9607 mmol/L\n",
      "[ipykernel_launcher.py] Average Na  in the cell: 12.0 mmol/L\n",
      "[ipykernel_launcher.py] Average K  in the cell: 139.0 mmol/L\n",
      "[ipykernel_launcher.py] -------------------------------------------------------------------\n"
     ]
    },
    {
     "name": "stderr",
     "output_type": "stream",
     "text": [
      "[ipykernel_launcher.py] /Users/benjamin/betse/betse/science/visual/visabc.py:1045: UserWarning: Matplotlib is currently using agg, which is a non-GUI backend, so cannot show the figure.\n",
      "  pyplot.pause(0.0001)\n",
      "\n"
     ]
    },
    {
     "name": "stdout",
     "output_type": "stream",
     "text": [
      "[ipykernel_launcher.py] time: 350.01 s of 500.0 s\n",
      "[ipykernel_launcher.py] Average Anion in the cell: 0.9618 mmol/L\n",
      "[ipykernel_launcher.py] Average Na  in the cell: 12.0 mmol/L\n",
      "[ipykernel_launcher.py] Average K  in the cell: 139.0 mmol/L\n",
      "[ipykernel_launcher.py] -------------------------------------------------------------------\n"
     ]
    },
    {
     "name": "stderr",
     "output_type": "stream",
     "text": [
      "[ipykernel_launcher.py] /Users/benjamin/betse/betse/science/visual/visabc.py:1045: UserWarning: Matplotlib is currently using agg, which is a non-GUI backend, so cannot show the figure.\n",
      "  pyplot.pause(0.0001)\n",
      "\n"
     ]
    },
    {
     "name": "stdout",
     "output_type": "stream",
     "text": [
      "[ipykernel_launcher.py] time: 355.01 s of 500.0 s\n",
      "[ipykernel_launcher.py] Average Anion in the cell: 0.9629 mmol/L\n",
      "[ipykernel_launcher.py] Average Na  in the cell: 12.0 mmol/L\n",
      "[ipykernel_launcher.py] Average K  in the cell: 139.0 mmol/L\n",
      "[ipykernel_launcher.py] -------------------------------------------------------------------\n"
     ]
    },
    {
     "name": "stderr",
     "output_type": "stream",
     "text": [
      "[ipykernel_launcher.py] /Users/benjamin/betse/betse/science/visual/visabc.py:1045: UserWarning: Matplotlib is currently using agg, which is a non-GUI backend, so cannot show the figure.\n",
      "  pyplot.pause(0.0001)\n",
      "\n"
     ]
    },
    {
     "name": "stdout",
     "output_type": "stream",
     "text": [
      "[ipykernel_launcher.py] time: 360.01 s of 500.0 s\n",
      "[ipykernel_launcher.py] Average Anion in the cell: 0.9639 mmol/L\n",
      "[ipykernel_launcher.py] Average Na  in the cell: 12.0 mmol/L\n",
      "[ipykernel_launcher.py] Average K  in the cell: 139.0 mmol/L\n",
      "[ipykernel_launcher.py] -------------------------------------------------------------------\n"
     ]
    },
    {
     "name": "stderr",
     "output_type": "stream",
     "text": [
      "[ipykernel_launcher.py] /Users/benjamin/betse/betse/science/visual/visabc.py:1045: UserWarning: Matplotlib is currently using agg, which is a non-GUI backend, so cannot show the figure.\n",
      "  pyplot.pause(0.0001)\n",
      "\n"
     ]
    },
    {
     "name": "stdout",
     "output_type": "stream",
     "text": [
      "[ipykernel_launcher.py] time: 365.01 s of 500.0 s\n",
      "[ipykernel_launcher.py] Average Anion in the cell: 0.9648 mmol/L\n",
      "[ipykernel_launcher.py] Average Na  in the cell: 12.0 mmol/L\n",
      "[ipykernel_launcher.py] Average K  in the cell: 139.0 mmol/L\n",
      "[ipykernel_launcher.py] -------------------------------------------------------------------\n"
     ]
    },
    {
     "name": "stderr",
     "output_type": "stream",
     "text": [
      "[ipykernel_launcher.py] /Users/benjamin/betse/betse/science/visual/visabc.py:1045: UserWarning: Matplotlib is currently using agg, which is a non-GUI backend, so cannot show the figure.\n",
      "  pyplot.pause(0.0001)\n",
      "\n"
     ]
    },
    {
     "name": "stdout",
     "output_type": "stream",
     "text": [
      "[ipykernel_launcher.py] time: 370.01 s of 500.0 s\n",
      "[ipykernel_launcher.py] Average Anion in the cell: 0.9658 mmol/L\n",
      "[ipykernel_launcher.py] Average Na  in the cell: 12.0 mmol/L\n",
      "[ipykernel_launcher.py] Average K  in the cell: 139.0 mmol/L\n",
      "[ipykernel_launcher.py] -------------------------------------------------------------------\n"
     ]
    },
    {
     "name": "stderr",
     "output_type": "stream",
     "text": [
      "[ipykernel_launcher.py] /Users/benjamin/betse/betse/science/visual/visabc.py:1045: UserWarning: Matplotlib is currently using agg, which is a non-GUI backend, so cannot show the figure.\n",
      "  pyplot.pause(0.0001)\n",
      "\n"
     ]
    },
    {
     "name": "stdout",
     "output_type": "stream",
     "text": [
      "[ipykernel_launcher.py] time: 375.01 s of 500.0 s\n",
      "[ipykernel_launcher.py] Average Anion in the cell: 0.9666 mmol/L\n",
      "[ipykernel_launcher.py] Average Na  in the cell: 12.0 mmol/L\n",
      "[ipykernel_launcher.py] Average K  in the cell: 139.0 mmol/L\n",
      "[ipykernel_launcher.py] -------------------------------------------------------------------\n"
     ]
    },
    {
     "name": "stderr",
     "output_type": "stream",
     "text": [
      "[ipykernel_launcher.py] /Users/benjamin/betse/betse/science/visual/visabc.py:1045: UserWarning: Matplotlib is currently using agg, which is a non-GUI backend, so cannot show the figure.\n",
      "  pyplot.pause(0.0001)\n",
      "\n"
     ]
    },
    {
     "name": "stdout",
     "output_type": "stream",
     "text": [
      "[ipykernel_launcher.py] time: 380.01 s of 500.0 s\n",
      "[ipykernel_launcher.py] Average Anion in the cell: 0.9675 mmol/L\n",
      "[ipykernel_launcher.py] Average Na  in the cell: 12.0 mmol/L\n",
      "[ipykernel_launcher.py] Average K  in the cell: 139.0 mmol/L\n",
      "[ipykernel_launcher.py] -------------------------------------------------------------------\n"
     ]
    },
    {
     "name": "stderr",
     "output_type": "stream",
     "text": [
      "[ipykernel_launcher.py] /Users/benjamin/betse/betse/science/visual/visabc.py:1045: UserWarning: Matplotlib is currently using agg, which is a non-GUI backend, so cannot show the figure.\n",
      "  pyplot.pause(0.0001)\n",
      "\n"
     ]
    },
    {
     "name": "stdout",
     "output_type": "stream",
     "text": [
      "[ipykernel_launcher.py] time: 385.01 s of 500.0 s\n",
      "[ipykernel_launcher.py] Average Anion in the cell: 0.9682 mmol/L\n",
      "[ipykernel_launcher.py] Average Na  in the cell: 12.0 mmol/L\n",
      "[ipykernel_launcher.py] Average K  in the cell: 139.0 mmol/L\n",
      "[ipykernel_launcher.py] -------------------------------------------------------------------\n"
     ]
    },
    {
     "name": "stderr",
     "output_type": "stream",
     "text": [
      "[ipykernel_launcher.py] /Users/benjamin/betse/betse/science/visual/visabc.py:1045: UserWarning: Matplotlib is currently using agg, which is a non-GUI backend, so cannot show the figure.\n",
      "  pyplot.pause(0.0001)\n",
      "\n"
     ]
    },
    {
     "name": "stdout",
     "output_type": "stream",
     "text": [
      "[ipykernel_launcher.py] time: 390.01 s of 500.0 s\n",
      "[ipykernel_launcher.py] Average Anion in the cell: 0.969 mmol/L\n",
      "[ipykernel_launcher.py] Average Na  in the cell: 12.0 mmol/L\n",
      "[ipykernel_launcher.py] Average K  in the cell: 139.0 mmol/L\n",
      "[ipykernel_launcher.py] -------------------------------------------------------------------\n"
     ]
    },
    {
     "name": "stderr",
     "output_type": "stream",
     "text": [
      "[ipykernel_launcher.py] /Users/benjamin/betse/betse/science/visual/visabc.py:1045: UserWarning: Matplotlib is currently using agg, which is a non-GUI backend, so cannot show the figure.\n",
      "  pyplot.pause(0.0001)\n",
      "\n"
     ]
    },
    {
     "name": "stdout",
     "output_type": "stream",
     "text": [
      "[ipykernel_launcher.py] time: 395.01 s of 500.0 s\n",
      "[ipykernel_launcher.py] Average Anion in the cell: 0.9697 mmol/L\n",
      "[ipykernel_launcher.py] Average Na  in the cell: 12.0 mmol/L\n",
      "[ipykernel_launcher.py] Average K  in the cell: 139.0 mmol/L\n",
      "[ipykernel_launcher.py] -------------------------------------------------------------------\n"
     ]
    },
    {
     "name": "stderr",
     "output_type": "stream",
     "text": [
      "[ipykernel_launcher.py] /Users/benjamin/betse/betse/science/visual/visabc.py:1045: UserWarning: Matplotlib is currently using agg, which is a non-GUI backend, so cannot show the figure.\n",
      "  pyplot.pause(0.0001)\n",
      "\n"
     ]
    },
    {
     "name": "stdout",
     "output_type": "stream",
     "text": [
      "[ipykernel_launcher.py] time: 400.01 s of 500.0 s\n",
      "[ipykernel_launcher.py] Average Anion in the cell: 0.9704 mmol/L\n",
      "[ipykernel_launcher.py] Average Na  in the cell: 12.0 mmol/L\n",
      "[ipykernel_launcher.py] Average K  in the cell: 139.0 mmol/L\n",
      "[ipykernel_launcher.py] -------------------------------------------------------------------\n"
     ]
    },
    {
     "name": "stderr",
     "output_type": "stream",
     "text": [
      "[ipykernel_launcher.py] /Users/benjamin/betse/betse/science/visual/visabc.py:1045: UserWarning: Matplotlib is currently using agg, which is a non-GUI backend, so cannot show the figure.\n",
      "  pyplot.pause(0.0001)\n",
      "\n"
     ]
    },
    {
     "name": "stdout",
     "output_type": "stream",
     "text": [
      "[ipykernel_launcher.py] time: 405.01 s of 500.0 s\n",
      "[ipykernel_launcher.py] Average Anion in the cell: 0.971 mmol/L\n",
      "[ipykernel_launcher.py] Average Na  in the cell: 12.0 mmol/L\n",
      "[ipykernel_launcher.py] Average K  in the cell: 139.0 mmol/L\n",
      "[ipykernel_launcher.py] -------------------------------------------------------------------\n"
     ]
    },
    {
     "name": "stderr",
     "output_type": "stream",
     "text": [
      "[ipykernel_launcher.py] /Users/benjamin/betse/betse/science/visual/visabc.py:1045: UserWarning: Matplotlib is currently using agg, which is a non-GUI backend, so cannot show the figure.\n",
      "  pyplot.pause(0.0001)\n",
      "\n"
     ]
    },
    {
     "name": "stdout",
     "output_type": "stream",
     "text": [
      "[ipykernel_launcher.py] time: 410.01 s of 500.0 s\n",
      "[ipykernel_launcher.py] Average Anion in the cell: 0.9717 mmol/L\n",
      "[ipykernel_launcher.py] Average Na  in the cell: 12.0 mmol/L\n",
      "[ipykernel_launcher.py] Average K  in the cell: 139.0 mmol/L\n",
      "[ipykernel_launcher.py] -------------------------------------------------------------------\n"
     ]
    },
    {
     "name": "stderr",
     "output_type": "stream",
     "text": [
      "[ipykernel_launcher.py] /Users/benjamin/betse/betse/science/visual/visabc.py:1045: UserWarning: Matplotlib is currently using agg, which is a non-GUI backend, so cannot show the figure.\n",
      "  pyplot.pause(0.0001)\n",
      "\n"
     ]
    },
    {
     "name": "stdout",
     "output_type": "stream",
     "text": [
      "[ipykernel_launcher.py] time: 415.01 s of 500.0 s\n",
      "[ipykernel_launcher.py] Average Anion in the cell: 0.9723 mmol/L\n",
      "[ipykernel_launcher.py] Average Na  in the cell: 12.0 mmol/L\n",
      "[ipykernel_launcher.py] Average K  in the cell: 139.0 mmol/L\n",
      "[ipykernel_launcher.py] -------------------------------------------------------------------\n"
     ]
    },
    {
     "name": "stderr",
     "output_type": "stream",
     "text": [
      "[ipykernel_launcher.py] /Users/benjamin/betse/betse/science/visual/visabc.py:1045: UserWarning: Matplotlib is currently using agg, which is a non-GUI backend, so cannot show the figure.\n",
      "  pyplot.pause(0.0001)\n",
      "\n"
     ]
    },
    {
     "name": "stdout",
     "output_type": "stream",
     "text": [
      "[ipykernel_launcher.py] time: 420.01 s of 500.0 s\n",
      "[ipykernel_launcher.py] Average Anion in the cell: 0.9729 mmol/L\n",
      "[ipykernel_launcher.py] Average Na  in the cell: 12.0 mmol/L\n",
      "[ipykernel_launcher.py] Average K  in the cell: 139.0 mmol/L\n",
      "[ipykernel_launcher.py] -------------------------------------------------------------------\n"
     ]
    },
    {
     "name": "stderr",
     "output_type": "stream",
     "text": [
      "[ipykernel_launcher.py] /Users/benjamin/betse/betse/science/visual/visabc.py:1045: UserWarning: Matplotlib is currently using agg, which is a non-GUI backend, so cannot show the figure.\n",
      "  pyplot.pause(0.0001)\n",
      "\n"
     ]
    },
    {
     "name": "stdout",
     "output_type": "stream",
     "text": [
      "[ipykernel_launcher.py] time: 425.01 s of 500.0 s\n",
      "[ipykernel_launcher.py] Average Anion in the cell: 0.9734 mmol/L\n",
      "[ipykernel_launcher.py] Average Na  in the cell: 12.0 mmol/L\n",
      "[ipykernel_launcher.py] Average K  in the cell: 139.0 mmol/L\n",
      "[ipykernel_launcher.py] -------------------------------------------------------------------\n"
     ]
    },
    {
     "name": "stderr",
     "output_type": "stream",
     "text": [
      "[ipykernel_launcher.py] /Users/benjamin/betse/betse/science/visual/visabc.py:1045: UserWarning: Matplotlib is currently using agg, which is a non-GUI backend, so cannot show the figure.\n",
      "  pyplot.pause(0.0001)\n",
      "\n"
     ]
    },
    {
     "name": "stdout",
     "output_type": "stream",
     "text": [
      "[ipykernel_launcher.py] time: 430.01 s of 500.0 s\n",
      "[ipykernel_launcher.py] Average Anion in the cell: 0.974 mmol/L\n",
      "[ipykernel_launcher.py] Average Na  in the cell: 12.0 mmol/L\n",
      "[ipykernel_launcher.py] Average K  in the cell: 139.0 mmol/L\n",
      "[ipykernel_launcher.py] -------------------------------------------------------------------\n"
     ]
    },
    {
     "name": "stderr",
     "output_type": "stream",
     "text": [
      "[ipykernel_launcher.py] /Users/benjamin/betse/betse/science/visual/visabc.py:1045: UserWarning: Matplotlib is currently using agg, which is a non-GUI backend, so cannot show the figure.\n",
      "  pyplot.pause(0.0001)\n",
      "\n"
     ]
    },
    {
     "name": "stdout",
     "output_type": "stream",
     "text": [
      "[ipykernel_launcher.py] time: 435.01 s of 500.0 s\n",
      "[ipykernel_launcher.py] Average Anion in the cell: 0.9745 mmol/L\n",
      "[ipykernel_launcher.py] Average Na  in the cell: 12.0 mmol/L\n",
      "[ipykernel_launcher.py] Average K  in the cell: 139.0 mmol/L\n",
      "[ipykernel_launcher.py] -------------------------------------------------------------------\n"
     ]
    },
    {
     "name": "stderr",
     "output_type": "stream",
     "text": [
      "[ipykernel_launcher.py] /Users/benjamin/betse/betse/science/visual/visabc.py:1045: UserWarning: Matplotlib is currently using agg, which is a non-GUI backend, so cannot show the figure.\n",
      "  pyplot.pause(0.0001)\n",
      "\n"
     ]
    },
    {
     "name": "stdout",
     "output_type": "stream",
     "text": [
      "[ipykernel_launcher.py] time: 440.01 s of 500.0 s\n",
      "[ipykernel_launcher.py] Average Anion in the cell: 0.975 mmol/L\n",
      "[ipykernel_launcher.py] Average Na  in the cell: 12.0 mmol/L\n",
      "[ipykernel_launcher.py] Average K  in the cell: 139.0 mmol/L\n",
      "[ipykernel_launcher.py] -------------------------------------------------------------------\n"
     ]
    },
    {
     "name": "stderr",
     "output_type": "stream",
     "text": [
      "[ipykernel_launcher.py] /Users/benjamin/betse/betse/science/visual/visabc.py:1045: UserWarning: Matplotlib is currently using agg, which is a non-GUI backend, so cannot show the figure.\n",
      "  pyplot.pause(0.0001)\n",
      "\n"
     ]
    },
    {
     "name": "stdout",
     "output_type": "stream",
     "text": [
      "[ipykernel_launcher.py] time: 445.01 s of 500.0 s\n",
      "[ipykernel_launcher.py] Average Anion in the cell: 0.9755 mmol/L\n",
      "[ipykernel_launcher.py] Average Na  in the cell: 12.0 mmol/L\n",
      "[ipykernel_launcher.py] Average K  in the cell: 139.0 mmol/L\n",
      "[ipykernel_launcher.py] -------------------------------------------------------------------\n"
     ]
    },
    {
     "name": "stderr",
     "output_type": "stream",
     "text": [
      "[ipykernel_launcher.py] /Users/benjamin/betse/betse/science/visual/visabc.py:1045: UserWarning: Matplotlib is currently using agg, which is a non-GUI backend, so cannot show the figure.\n",
      "  pyplot.pause(0.0001)\n",
      "\n"
     ]
    },
    {
     "name": "stdout",
     "output_type": "stream",
     "text": [
      "[ipykernel_launcher.py] time: 450.01 s of 500.0 s\n",
      "[ipykernel_launcher.py] Average Anion in the cell: 0.976 mmol/L\n",
      "[ipykernel_launcher.py] Average Na  in the cell: 12.0 mmol/L\n",
      "[ipykernel_launcher.py] Average K  in the cell: 139.0 mmol/L\n",
      "[ipykernel_launcher.py] -------------------------------------------------------------------\n"
     ]
    },
    {
     "name": "stderr",
     "output_type": "stream",
     "text": [
      "[ipykernel_launcher.py] /Users/benjamin/betse/betse/science/visual/visabc.py:1045: UserWarning: Matplotlib is currently using agg, which is a non-GUI backend, so cannot show the figure.\n",
      "  pyplot.pause(0.0001)\n",
      "\n"
     ]
    },
    {
     "name": "stdout",
     "output_type": "stream",
     "text": [
      "[ipykernel_launcher.py] time: 455.01 s of 500.0 s\n",
      "[ipykernel_launcher.py] Average Anion in the cell: 0.9764 mmol/L\n",
      "[ipykernel_launcher.py] Average Na  in the cell: 12.0 mmol/L\n",
      "[ipykernel_launcher.py] Average K  in the cell: 139.0 mmol/L\n",
      "[ipykernel_launcher.py] -------------------------------------------------------------------\n"
     ]
    },
    {
     "name": "stderr",
     "output_type": "stream",
     "text": [
      "[ipykernel_launcher.py] /Users/benjamin/betse/betse/science/visual/visabc.py:1045: UserWarning: Matplotlib is currently using agg, which is a non-GUI backend, so cannot show the figure.\n",
      "  pyplot.pause(0.0001)\n",
      "\n"
     ]
    },
    {
     "name": "stdout",
     "output_type": "stream",
     "text": [
      "[ipykernel_launcher.py] time: 460.01 s of 500.0 s\n",
      "[ipykernel_launcher.py] Average Anion in the cell: 0.9769 mmol/L\n",
      "[ipykernel_launcher.py] Average Na  in the cell: 12.0 mmol/L\n",
      "[ipykernel_launcher.py] Average K  in the cell: 139.0 mmol/L\n",
      "[ipykernel_launcher.py] -------------------------------------------------------------------\n"
     ]
    },
    {
     "name": "stderr",
     "output_type": "stream",
     "text": [
      "[ipykernel_launcher.py] /Users/benjamin/betse/betse/science/visual/visabc.py:1045: UserWarning: Matplotlib is currently using agg, which is a non-GUI backend, so cannot show the figure.\n",
      "  pyplot.pause(0.0001)\n",
      "\n"
     ]
    },
    {
     "name": "stdout",
     "output_type": "stream",
     "text": [
      "[ipykernel_launcher.py] time: 465.01 s of 500.0 s\n",
      "[ipykernel_launcher.py] Average Anion in the cell: 0.9773 mmol/L\n",
      "[ipykernel_launcher.py] Average Na  in the cell: 12.0 mmol/L\n",
      "[ipykernel_launcher.py] Average K  in the cell: 139.0 mmol/L\n",
      "[ipykernel_launcher.py] -------------------------------------------------------------------\n"
     ]
    },
    {
     "name": "stderr",
     "output_type": "stream",
     "text": [
      "[ipykernel_launcher.py] /Users/benjamin/betse/betse/science/visual/visabc.py:1045: UserWarning: Matplotlib is currently using agg, which is a non-GUI backend, so cannot show the figure.\n",
      "  pyplot.pause(0.0001)\n",
      "\n"
     ]
    },
    {
     "name": "stdout",
     "output_type": "stream",
     "text": [
      "[ipykernel_launcher.py] time: 470.01 s of 500.0 s\n",
      "[ipykernel_launcher.py] Average Anion in the cell: 0.9777 mmol/L\n",
      "[ipykernel_launcher.py] Average Na  in the cell: 12.0 mmol/L\n",
      "[ipykernel_launcher.py] Average K  in the cell: 139.0 mmol/L\n",
      "[ipykernel_launcher.py] -------------------------------------------------------------------\n"
     ]
    },
    {
     "name": "stderr",
     "output_type": "stream",
     "text": [
      "[ipykernel_launcher.py] /Users/benjamin/betse/betse/science/visual/visabc.py:1045: UserWarning: Matplotlib is currently using agg, which is a non-GUI backend, so cannot show the figure.\n",
      "  pyplot.pause(0.0001)\n",
      "\n"
     ]
    },
    {
     "name": "stdout",
     "output_type": "stream",
     "text": [
      "[ipykernel_launcher.py] time: 475.01 s of 500.0 s\n",
      "[ipykernel_launcher.py] Average Anion in the cell: 0.9781 mmol/L\n",
      "[ipykernel_launcher.py] Average Na  in the cell: 12.0 mmol/L\n",
      "[ipykernel_launcher.py] Average K  in the cell: 139.0 mmol/L\n",
      "[ipykernel_launcher.py] -------------------------------------------------------------------\n"
     ]
    },
    {
     "name": "stderr",
     "output_type": "stream",
     "text": [
      "[ipykernel_launcher.py] /Users/benjamin/betse/betse/science/visual/visabc.py:1045: UserWarning: Matplotlib is currently using agg, which is a non-GUI backend, so cannot show the figure.\n",
      "  pyplot.pause(0.0001)\n",
      "\n"
     ]
    },
    {
     "name": "stdout",
     "output_type": "stream",
     "text": [
      "[ipykernel_launcher.py] time: 480.01 s of 500.0 s\n",
      "[ipykernel_launcher.py] Average Anion in the cell: 0.9785 mmol/L\n",
      "[ipykernel_launcher.py] Average Na  in the cell: 12.0 mmol/L\n",
      "[ipykernel_launcher.py] Average K  in the cell: 139.0 mmol/L\n",
      "[ipykernel_launcher.py] -------------------------------------------------------------------\n"
     ]
    },
    {
     "name": "stderr",
     "output_type": "stream",
     "text": [
      "[ipykernel_launcher.py] /Users/benjamin/betse/betse/science/visual/visabc.py:1045: UserWarning: Matplotlib is currently using agg, which is a non-GUI backend, so cannot show the figure.\n",
      "  pyplot.pause(0.0001)\n",
      "\n"
     ]
    },
    {
     "name": "stdout",
     "output_type": "stream",
     "text": [
      "[ipykernel_launcher.py] time: 485.01 s of 500.0 s\n",
      "[ipykernel_launcher.py] Average Anion in the cell: 0.9789 mmol/L\n",
      "[ipykernel_launcher.py] Average Na  in the cell: 12.0 mmol/L\n",
      "[ipykernel_launcher.py] Average K  in the cell: 139.0 mmol/L\n",
      "[ipykernel_launcher.py] -------------------------------------------------------------------\n"
     ]
    },
    {
     "name": "stderr",
     "output_type": "stream",
     "text": [
      "[ipykernel_launcher.py] /Users/benjamin/betse/betse/science/visual/visabc.py:1045: UserWarning: Matplotlib is currently using agg, which is a non-GUI backend, so cannot show the figure.\n",
      "  pyplot.pause(0.0001)\n",
      "\n"
     ]
    },
    {
     "name": "stdout",
     "output_type": "stream",
     "text": [
      "[ipykernel_launcher.py] time: 490.01 s of 500.0 s\n",
      "[ipykernel_launcher.py] Average Anion in the cell: 0.9793 mmol/L\n",
      "[ipykernel_launcher.py] Average Na  in the cell: 12.0 mmol/L\n",
      "[ipykernel_launcher.py] Average K  in the cell: 139.0 mmol/L\n",
      "[ipykernel_launcher.py] -------------------------------------------------------------------\n"
     ]
    },
    {
     "name": "stderr",
     "output_type": "stream",
     "text": [
      "[ipykernel_launcher.py] /Users/benjamin/betse/betse/science/visual/visabc.py:1045: UserWarning: Matplotlib is currently using agg, which is a non-GUI backend, so cannot show the figure.\n",
      "  pyplot.pause(0.0001)\n",
      "\n"
     ]
    },
    {
     "name": "stdout",
     "output_type": "stream",
     "text": [
      "[ipykernel_launcher.py] time: 495.01 s of 500.0 s\n",
      "[ipykernel_launcher.py] Average Anion in the cell: 0.9796 mmol/L\n",
      "[ipykernel_launcher.py] Average Na  in the cell: 12.0 mmol/L\n",
      "[ipykernel_launcher.py] Average K  in the cell: 139.0 mmol/L\n",
      "[ipykernel_launcher.py] -------------------------------------------------------------------\n"
     ]
    },
    {
     "name": "stderr",
     "output_type": "stream",
     "text": [
      "[ipykernel_launcher.py] /Users/benjamin/betse/betse/science/visual/visabc.py:1045: UserWarning: Matplotlib is currently using agg, which is a non-GUI backend, so cannot show the figure.\n",
      "  pyplot.pause(0.0001)\n",
      "\n"
     ]
    },
    {
     "name": "stdout",
     "output_type": "stream",
     "text": [
      "[ipykernel_launcher.py] Initialization saved to:\n",
      "\t/Users/benjamin/betse/INITS\n",
      "[ipykernel_launcher.py] Final average cell Vmem: -48.421 mV\n",
      "[ipykernel_launcher.py] time: 495.01 s of 500.0 s\n",
      "[ipykernel_launcher.py] Average Anion in the cell: 0.9799 mmol/L\n",
      "[ipykernel_launcher.py] Average Na  in the cell: 12.0 mmol/L\n",
      "[ipykernel_launcher.py] Average K  in the cell: 139.0 mmol/L\n",
      "[ipykernel_launcher.py] -------------------------------------------------------------------\n",
      "[ipykernel_launcher.py] Initialization completed in 501.71 seconds.\n",
      "[ipykernel_launcher.py] Successfully run betse pipeline!\n"
     ]
    }
   ],
   "source": [
    "# Run the whole model pipeline:\n",
    "model.run_pipeline(new_mesh=True, verbose=True, run_init=True, run_sim=False)"
   ]
  },
  {
   "cell_type": "code",
   "execution_count": 20,
   "metadata": {},
   "outputs": [
    {
     "name": "stderr",
     "output_type": "stream",
     "text": [
      "[ipykernel_launcher.py] /var/folders/y1/yzhnjvf90_7ccsbpmlmxkk3r0000gn/T/ipykernel_30820/3790463421.py:16: PendingDeprecationWarning: nx.nx_pydot.from_pydot depends on the pydot package, which hasknown issues and is not actively maintained.\n",
      "\n",
      "See https://github.com/networkx/networkx/issues/5723\n",
      "  graph_network = networkx.nx_pydot.from_pydot(graph_pydot)\n",
      "\n"
     ]
    }
   ],
   "source": [
    "# Working with BETSE's networks: \n",
    "# Access the gene regulatory network core:\n",
    "grn = model.phase.sim.grn.core\n",
    "\n",
    "graph_pydot = plot_master_network(grn, model.p)\n",
    "\n",
    "# Save the pydot graph to an svg file:\n",
    "# Initialize saving:\n",
    "grn.init_saving(model.phase.cells, model.p, plot_type='init', nested_folder_name='GRN')\n",
    "\n",
    "# Optionally print the location of the image path using: print(grn.imagePath)\n",
    "savename = grn.imagePath + 'OptimizedNetworkGraph' + '.svg'\n",
    "graph_pydot.write_svg(savename, prog='dot')\n",
    "\n",
    "# Convert the pydot graph to a networkx file:\n",
    "graph_network = networkx.nx_pydot.from_pydot(graph_pydot)"
   ]
  },
  {
   "cell_type": "code",
   "execution_count": 19,
   "metadata": {},
   "outputs": [],
   "source": [
    "fig = plt.figure(1, figsize=(200, 200), dpi=100)\n",
    "networkx.draw(graph_network, with_labels=True, node_size=250, alpha=0.3, arrows=True)"
   ]
  },
  {
   "cell_type": "code",
   "execution_count": 23,
   "metadata": {},
   "outputs": [],
   "source": [
    "networkx.write_gml(graph_network, \"patternsnetwork.gml\")"
   ]
  },
  {
   "cell_type": "code",
   "execution_count": null,
   "metadata": {},
   "outputs": [],
   "source": []
  }
 ],
 "metadata": {
  "kernelspec": {
   "display_name": "Python 3 (ipykernel)",
   "language": "python",
   "name": "python3"
  },
  "language_info": {
   "codemirror_mode": {
    "name": "ipython",
    "version": 3
   },
   "file_extension": ".py",
   "mimetype": "text/x-python",
   "name": "python",
   "nbconvert_exporter": "python",
   "pygments_lexer": "ipython3",
   "version": "3.9.12"
  },
  "vscode": {
   "interpreter": {
    "hash": "b0fa6594d8f4cbf19f97940f81e996739fb7646882a419484c72d19e05852a7e"
   }
  }
 },
 "nbformat": 4,
 "nbformat_minor": 4
}
