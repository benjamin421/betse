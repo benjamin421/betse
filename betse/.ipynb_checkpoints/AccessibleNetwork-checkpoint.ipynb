{
 "cells": [
  {
   "cell_type": "markdown",
   "metadata": {},
   "source": [
    "### Accessing BIGR Network Files from BETSE\n",
    "\n",
    "#### Steps:\n",
    "\n",
    "1) Start using BETSE using the 'BetseWrapper' class as outlined in the code below. The BetseWrapper class has been added to the BETSE repository, and can be accessed by pulling the latest commit from BETSE on Github. The following code shows how to run BETSE as an external dependency. \n",
    "\n",
    "2) Install Networkx and Pydot in order to work with networks \n",
    "\n",
    "3) Run the BetseWrapper as an init or sim with a config file that has a Gene Regulatory Network defined. \n",
    "\n",
    "4) See last code block below for code to access BETSE's GRN and how to export svg, convert from pydot to networkx.\n"
   ]
  },
  {
   "cell_type": "code",
   "execution_count": 3,
   "metadata": {},
   "outputs": [
    {
     "ename": "ModuleNotFoundError",
     "evalue": "No module named 'beartype'",
     "output_type": "error",
     "traceback": [
      "\u001b[0;31m---------------------------------------------------------------------------\u001b[0m",
      "\u001b[0;31mModuleNotFoundError\u001b[0m                       Traceback (most recent call last)",
      "Input \u001b[0;32mIn [3]\u001b[0m, in \u001b[0;36m<cell line: 7>\u001b[0;34m()\u001b[0m\n\u001b[1;32m      5\u001b[0m \u001b[38;5;28;01mfrom\u001b[39;00m \u001b[38;5;21;01mmatplotlib\u001b[39;00m \u001b[38;5;28;01mimport\u001b[39;00m colorbar\n\u001b[1;32m      6\u001b[0m \u001b[38;5;28;01mfrom\u001b[39;00m \u001b[38;5;21;01mmatplotlib\u001b[39;00m\u001b[38;5;21;01m.\u001b[39;00m\u001b[38;5;21;01mcollections\u001b[39;00m \u001b[38;5;28;01mimport\u001b[39;00m PolyCollection\n\u001b[0;32m----> 7\u001b[0m \u001b[38;5;28;01mfrom\u001b[39;00m \u001b[38;5;21;01mbetse\u001b[39;00m\u001b[38;5;21;01m.\u001b[39;00m\u001b[38;5;21;01mscience\u001b[39;00m\u001b[38;5;21;01m.\u001b[39;00m\u001b[38;5;21;01mwrapper\u001b[39;00m \u001b[38;5;28;01mimport\u001b[39;00m BetseWrapper\n\u001b[1;32m      9\u001b[0m \u001b[38;5;66;03m# Import optional dependencies for working with networks:\u001b[39;00m\n\u001b[1;32m     10\u001b[0m \u001b[38;5;28;01mimport\u001b[39;00m \u001b[38;5;21;01mnetworkx\u001b[39;00m\n",
      "File \u001b[0;32m~/betse/betse/science/__init__.py:43\u001b[0m, in \u001b[0;36m<module>\u001b[0;34m\u001b[0m\n\u001b[1;32m     39\u001b[0m _app_meta \u001b[38;5;241m=\u001b[39m _appmetaone\u001b[38;5;241m.\u001b[39mset_app_meta_betse_if_unset()\n\u001b[1;32m     41\u001b[0m \u001b[38;5;66;03m# Initialize all mandatory third-party dependencies if the\u001b[39;00m\n\u001b[1;32m     42\u001b[0m \u001b[38;5;66;03m# _app_meta.init_libs() method has yet to be called elsewhere.\u001b[39;00m\n\u001b[0;32m---> 43\u001b[0m \u001b[43m_app_meta\u001b[49m\u001b[38;5;241;43m.\u001b[39;49m\u001b[43minit_libs_if_needed\u001b[49m\u001b[43m(\u001b[49m\u001b[43m)\u001b[49m\n\u001b[1;32m     45\u001b[0m \u001b[38;5;66;03m# ....................{ CLEANUP                           }....................\u001b[39;00m\n\u001b[1;32m     46\u001b[0m \u001b[38;5;66;03m# Delete *ALL* attributes (including callables) defined above, preventing the\u001b[39;00m\n\u001b[1;32m     47\u001b[0m \u001b[38;5;66;03m# package namespace from being polluted with these attributes.\u001b[39;00m\n\u001b[1;32m     48\u001b[0m \u001b[38;5;28;01mdel\u001b[39;00m _appmetaone, _app_meta\n",
      "File \u001b[0;32m~/betse/betse/util/app/meta/appmetaabc.py:293\u001b[0m, in \u001b[0;36mAppMetaABC.init_libs_if_needed\u001b[0;34m(self, *args, **kwargs)\u001b[0m\n\u001b[1;32m    289\u001b[0m     logs\u001b[38;5;241m.\u001b[39mlog_debug(\n\u001b[1;32m    290\u001b[0m         \u001b[38;5;124m'\u001b[39m\u001b[38;5;124mIgnoring request to reload third-party dependencies...\u001b[39m\u001b[38;5;124m'\u001b[39m)\n\u001b[1;32m    291\u001b[0m \u001b[38;5;66;03m# Else, the init_libs() method has yet to be called. So, do so.\u001b[39;00m\n\u001b[1;32m    292\u001b[0m \u001b[38;5;28;01melse\u001b[39;00m:\n\u001b[0;32m--> 293\u001b[0m     \u001b[38;5;28;43mself\u001b[39;49m\u001b[38;5;241;43m.\u001b[39;49m\u001b[43minit_libs\u001b[49m\u001b[43m(\u001b[49m\u001b[38;5;241;43m*\u001b[39;49m\u001b[43margs\u001b[49m\u001b[43m,\u001b[49m\u001b[43m \u001b[49m\u001b[38;5;241;43m*\u001b[39;49m\u001b[38;5;241;43m*\u001b[39;49m\u001b[43mkwargs\u001b[49m\u001b[43m)\u001b[49m\n",
      "File \u001b[0;32m<string>:14\u001b[0m, in \u001b[0;36m__init_libs_type_checked__\u001b[0;34m(__beartype_func, *args, **kwargs)\u001b[0m\n",
      "File \u001b[0;32m~/betse/betse/util/app/meta/appmetaabc.py:251\u001b[0m, in \u001b[0;36mAppMetaABC.init_libs\u001b[0;34m(self, matplotlib_backend_name)\u001b[0m\n\u001b[1;32m    249\u001b[0m \u001b[38;5;66;03m# Avoid circular import dependencies.\u001b[39;00m\n\u001b[1;32m    250\u001b[0m \u001b[38;5;28;01mfrom\u001b[39;00m \u001b[38;5;21;01mbetse\u001b[39;00m\u001b[38;5;21;01m.\u001b[39;00m\u001b[38;5;21;01mlib\u001b[39;00m\u001b[38;5;21;01m.\u001b[39;00m\u001b[38;5;21;01mmatplotlib\u001b[39;00m\u001b[38;5;21;01m.\u001b[39;00m\u001b[38;5;21;01mmatplotlibs\u001b[39;00m \u001b[38;5;28;01mimport\u001b[39;00m mpl_config\n\u001b[0;32m--> 251\u001b[0m \u001b[38;5;28;01mfrom\u001b[39;00m \u001b[38;5;21;01mbetse\u001b[39;00m\u001b[38;5;21;01m.\u001b[39;00m\u001b[38;5;21;01mlib\u001b[39;00m\u001b[38;5;21;01m.\u001b[39;00m\u001b[38;5;21;01mnumpy\u001b[39;00m \u001b[38;5;28;01mimport\u001b[39;00m numpys\n\u001b[1;32m    252\u001b[0m \u001b[38;5;28;01mfrom\u001b[39;00m \u001b[38;5;21;01mbetse\u001b[39;00m\u001b[38;5;21;01m.\u001b[39;00m\u001b[38;5;21;01mlib\u001b[39;00m\u001b[38;5;21;01m.\u001b[39;00m\u001b[38;5;21;01mpickle\u001b[39;00m \u001b[38;5;28;01mimport\u001b[39;00m pickles\n\u001b[1;32m    253\u001b[0m \u001b[38;5;28;01mfrom\u001b[39;00m \u001b[38;5;21;01mbetse\u001b[39;00m\u001b[38;5;21;01m.\u001b[39;00m\u001b[38;5;21;01mlib\u001b[39;00m\u001b[38;5;21;01m.\u001b[39;00m\u001b[38;5;21;01mpil\u001b[39;00m \u001b[38;5;28;01mimport\u001b[39;00m pils\n",
      "File \u001b[0;32m~/betse/betse/lib/numpy/numpys.py:47\u001b[0m, in \u001b[0;36m<module>\u001b[0;34m\u001b[0m\n\u001b[1;32m     10\u001b[0m \u001b[38;5;66;03m#FIXME: Add detection support for NVBLAS, the Nvidia GPU-specific equivalent of\u001b[39;00m\n\u001b[1;32m     11\u001b[0m \u001b[38;5;66;03m#AMD's ACML. Naturally, further research is required.\u001b[39;00m\n\u001b[1;32m     12\u001b[0m \n\u001b[0;32m   (...)\u001b[0m\n\u001b[1;32m     44\u001b[0m \n\u001b[1;32m     45\u001b[0m \u001b[38;5;66;03m# ....................{ IMPORTS                            }....................\u001b[39;00m\n\u001b[1;32m     46\u001b[0m \u001b[38;5;28;01mimport\u001b[39;00m \u001b[38;5;21;01mnumpy\u001b[39;00m\n\u001b[0;32m---> 47\u001b[0m \u001b[38;5;28;01mfrom\u001b[39;00m \u001b[38;5;21;01mbeartype\u001b[39;00m\u001b[38;5;21;01m.\u001b[39;00m\u001b[38;5;21;01mtyping\u001b[39;00m \u001b[38;5;28;01mimport\u001b[39;00m (\n\u001b[1;32m     48\u001b[0m     Dict,\n\u001b[1;32m     49\u001b[0m     Optional,\n\u001b[1;32m     50\u001b[0m )\n\u001b[1;32m     51\u001b[0m \u001b[38;5;28;01mfrom\u001b[39;00m \u001b[38;5;21;01mbetse\u001b[39;00m\u001b[38;5;21;01m.\u001b[39;00m\u001b[38;5;21;01mutil\u001b[39;00m\u001b[38;5;21;01m.\u001b[39;00m\u001b[38;5;21;01mio\u001b[39;00m\u001b[38;5;21;01m.\u001b[39;00m\u001b[38;5;21;01mlog\u001b[39;00m\u001b[38;5;21;01m.\u001b[39;00m\u001b[38;5;21;01mlogs\u001b[39;00m \u001b[38;5;28;01mimport\u001b[39;00m (\n\u001b[1;32m     52\u001b[0m     log_debug,\n\u001b[1;32m     53\u001b[0m     log_exception,\n\u001b[1;32m     54\u001b[0m     log_warning,\n\u001b[1;32m     55\u001b[0m )\n\u001b[1;32m     56\u001b[0m \u001b[38;5;28;01mfrom\u001b[39;00m \u001b[38;5;21;01mbetse\u001b[39;00m\u001b[38;5;21;01m.\u001b[39;00m\u001b[38;5;21;01mutil\u001b[39;00m\u001b[38;5;21;01m.\u001b[39;00m\u001b[38;5;21;01mos\u001b[39;00m \u001b[38;5;28;01mimport\u001b[39;00m dlls\n",
      "\u001b[0;31mModuleNotFoundError\u001b[0m: No module named 'beartype'"
     ]
    }
   ],
   "source": [
    "# Import statements:\n",
    "import numpy as np\n",
    "import matplotlib.cm as cm\n",
    "import matplotlib.pyplot as plt\n",
    "from matplotlib import colorbar\n",
    "from matplotlib.collections import PolyCollection\n",
    "from betse.science.wrapper import BetseWrapper\n",
    "\n",
    "# Import optional dependencies for working with networks:\n",
    "import networkx\n",
    "import pydot\n",
    "from betse.science.chemistry.netplot import plot_master_network"
   ]
  },
  {
   "cell_type": "code",
   "execution_count": 3,
   "metadata": {},
   "outputs": [],
   "source": [
    "# This makes plots interactive (e.g. zoom, pan, saving, etc)\n",
    "# %matplotlib notebook "
   ]
  },
  {
   "cell_type": "code",
   "execution_count": 4,
   "metadata": {},
   "outputs": [
    {
     "name": "stdout",
     "output_type": "stream",
     "text": [
      "[ipykernel_launcher.py] Creating a new 2D Grid.\n",
      "[ipykernel_launcher.py] Seeding simulation...\n",
      "[ipykernel_launcher.py] Creating hexagonal cell lattice...\n",
      "[ipykernel_launcher.py] Creating Voronoi geometry... \n",
      "[ipykernel_launcher.py] Creating triangular mesh...\n",
      "[ipykernel_launcher.py] Check for unused vertices...\n",
      "[ipykernel_launcher.py] Merging close circumcenters...\n",
      "[ipykernel_launcher.py] Defining edges of tri mesh...\n",
      "[ipykernel_launcher.py] Calculating Voronoi cells...\n",
      "[ipykernel_launcher.py] Calculating Voronoi edges...\n",
      "[ipykernel_launcher.py] Creating triangular mesh...\n",
      "[ipykernel_launcher.py] Check for unused vertices...\n",
      "[ipykernel_launcher.py] Merging close circumcenters...\n",
      "[ipykernel_launcher.py] Defining edges of tri mesh...\n",
      "[ipykernel_launcher.py] Calculating Voronoi cells...\n",
      "[ipykernel_launcher.py] Calculating Voronoi edges...\n",
      "[ipykernel_launcher.py] Initializing Voronoi mesh optimization...\n",
      "[ipykernel_launcher.py] Creating triangular mesh...\n",
      "[ipykernel_launcher.py] Check for unused vertices...\n",
      "[ipykernel_launcher.py] Merging close circumcenters...\n",
      "[ipykernel_launcher.py] Defining edges of tri mesh...\n",
      "[ipykernel_launcher.py] Calculating Voronoi cells...\n",
      "[ipykernel_launcher.py] Calculating Voronoi edges...\n",
      "[ipykernel_launcher.py] Step 0: mesh energy 1.3670750380509928\n",
      "[ipykernel_launcher.py] Convergence condition met for mesh optimization.\n",
      "[ipykernel_launcher.py] Final mesh quality 1.367075\n",
      "[ipykernel_launcher.py] Creating triangular mesh...\n",
      "[ipykernel_launcher.py] Check for unused vertices...\n",
      "[ipykernel_launcher.py] Merging close circumcenters...\n",
      "[ipykernel_launcher.py] Defining edges of tri mesh...\n",
      "[ipykernel_launcher.py] Calculating Voronoi cells...\n",
      "[ipykernel_launcher.py] Calculating Voronoi edges...\n",
      "[ipykernel_launcher.py] Creating core operators...\n",
      "[ipykernel_launcher.py] Mesh creation complete!\n",
      "[ipykernel_launcher.py] Creating computational matrices for cell-cell transfers...\n",
      "[ipykernel_launcher.py] Creating gap junctions... \n",
      "[ipykernel_launcher.py] Creating core computational matrices...\n",
      "[ipykernel_launcher.py] Cell cluster creation complete!\n",
      "[ipykernel_launcher.py] This world contains 2034 cells.\n",
      "[ipykernel_launcher.py] Each cell has an average of 5.84 nearest-neighbours.\n",
      "[ipykernel_launcher.py] The \"amphibian\" ion profile enables the \"sodium\", \"potassium\", \"chloride\", \"calcium\", \"proteins\", and \"anion\" ions.\n",
      "[ipykernel_launcher.py] If you have selected features using other ions, they will be ignored.\n",
      "[ipykernel_launcher.py] Extracellular spaces enabled: False\n",
      "[ipykernel_launcher.py] Electroosmotic fluid flow: False\n",
      "[ipykernel_launcher.py] Force-induced cell deformation: False\n",
      "[ipykernel_launcher.py] Osmotic pressure: False\n",
      "[ipykernel_launcher.py] Gene regulatory network (GRN) configuration: /home/pietakio/Documents/Levin/TestSims/Patterns_May_20_2022/extra_configs/worm_3_May_20_2022.yaml\n",
      "[ipykernel_launcher.py] Seed completed in 73.13 seconds.\n",
      "[ipykernel_launcher.py] Initializing simulation...\n",
      "[ipykernel_launcher.py] Cell cluster loaded.\n",
      "[ipykernel_launcher.py] Creating core computational matrices...\n",
      "[ipykernel_launcher.py] This world contains 2034 cells.\n",
      "[ipykernel_launcher.py] Each cell has an average of 5.84 nearest-neighbours.\n",
      "[ipykernel_launcher.py] The \"amphibian\" ion profile enables the \"sodium\", \"potassium\", \"chloride\", \"calcium\", \"proteins\", and \"anion\" ions.\n",
      "[ipykernel_launcher.py] If you have selected features using other ions, they will be ignored.\n",
      "[ipykernel_launcher.py] Extracellular spaces enabled: False\n",
      "[ipykernel_launcher.py] Electroosmotic fluid flow: False\n",
      "[ipykernel_launcher.py] Force-induced cell deformation: False\n",
      "[ipykernel_launcher.py] Osmotic pressure: False\n",
      "[ipykernel_launcher.py] Gene regulatory network (GRN) configuration: /home/pietakio/Documents/Levin/TestSims/Patterns_May_20_2022/extra_configs/worm_3_May_20_2022.yaml\n",
      "[ipykernel_launcher.py] Initializing tissue and boundary profiles...\n",
      "[ipykernel_launcher.py] Initializing gene regulatory network...\n",
      "[ipykernel_launcher.py] Reading additional substance data...\n",
      "[ipykernel_launcher.py] Initializing substances/reaction network...\n",
      "[ipykernel_launcher.py] Writing substance growth/decay equations...\n",
      "[ipykernel_launcher.py] Writing passive electrodiffusion equations...\n",
      "[ipykernel_launcher.py] Writing reaction network matrix for cell zone...\n",
      "[ipykernel_launcher.py] Writing reaction network matrix for env zone...\n",
      "[ipykernel_launcher.py] Reading channel input data...\n",
      "[ipykernel_launcher.py] You are using a K+ Leak channel\n",
      "[ipykernel_launcher.py] You are using the inward rectifying K+ channel: Kir2p1\n",
      "[ipykernel_launcher.py] You are using the funny current channel: HCN4\n",
      "[ipykernel_launcher.py] You are using the funny current channel: HCN2\n",
      "[ipykernel_launcher.py] You are using the vgNa channel: Nav1p3\n",
      "[ipykernel_launcher.py] You are using the vgK channel: Kv1p5 \n"
     ]
    },
    {
     "name": "stderr",
     "output_type": "stream",
     "text": [
      "[ipykernel_launcher.py] /home/pietakio/py/betse/betse/science/sim.py:1417: RuntimeWarning: divide by zero encountered in log\n",
      "  revE = ((p.R * self.T) / (self.zs[ii] * p.F)) * np.log(cenv / ccell)\n",
      "\n"
     ]
    },
    {
     "name": "stdout",
     "output_type": "stream",
     "text": [
      "[ipykernel_launcher.py] Your initialization is running from 0 to 0.50 s of in-world time in 100 time steps (4 sampled).\n",
      "[ipykernel_launcher.py] Solver: Fast (equivalent circuit) simulator in use.\n",
      "[ipykernel_launcher.py] This run should take approximately 9.120000s to compute...\n",
      "[ipykernel_launcher.py] time: 0.1 s of 0.5 s\n",
      "[ipykernel_launcher.py] Average Anion in the cell: 0.0016 mmol/L\n",
      "[ipykernel_launcher.py] Average Na  in the cell: 8.0 mmol/L\n",
      "[ipykernel_launcher.py] Average K  in the cell: 125.0 mmol/L\n",
      "[ipykernel_launcher.py] Average Cl  in the cell: 20.0 mmol/L\n",
      "[ipykernel_launcher.py] Average Ca  in the cell: 1000.0 nmol/L\n",
      "[ipykernel_launcher.py] -------------------------------------------------------------------\n",
      "[ipykernel_launcher.py] time: 0.2 s of 0.5 s\n",
      "[ipykernel_launcher.py] Average Anion in the cell: 0.0026 mmol/L\n",
      "[ipykernel_launcher.py] Average Na  in the cell: 8.0 mmol/L\n",
      "[ipykernel_launcher.py] Average K  in the cell: 125.0 mmol/L\n",
      "[ipykernel_launcher.py] Average Cl  in the cell: 20.0 mmol/L\n",
      "[ipykernel_launcher.py] Average Ca  in the cell: 1000.0 nmol/L\n",
      "[ipykernel_launcher.py] -------------------------------------------------------------------\n",
      "[ipykernel_launcher.py] time: 0.3 s of 0.5 s\n",
      "[ipykernel_launcher.py] Average Anion in the cell: 0.0036 mmol/L\n",
      "[ipykernel_launcher.py] Average Na  in the cell: 8.0 mmol/L\n",
      "[ipykernel_launcher.py] Average K  in the cell: 125.0 mmol/L\n",
      "[ipykernel_launcher.py] Average Cl  in the cell: 20.0 mmol/L\n",
      "[ipykernel_launcher.py] Average Ca  in the cell: 1000.0 nmol/L\n",
      "[ipykernel_launcher.py] -------------------------------------------------------------------\n",
      "[ipykernel_launcher.py] time: 0.4 s of 0.5 s\n",
      "[ipykernel_launcher.py] Average Anion in the cell: 0.0046 mmol/L\n",
      "[ipykernel_launcher.py] Average Na  in the cell: 8.0 mmol/L\n",
      "[ipykernel_launcher.py] Average K  in the cell: 125.0 mmol/L\n",
      "[ipykernel_launcher.py] Average Cl  in the cell: 20.0 mmol/L\n",
      "[ipykernel_launcher.py] Average Ca  in the cell: 1000.0 nmol/L\n",
      "[ipykernel_launcher.py] -------------------------------------------------------------------\n",
      "[ipykernel_launcher.py] Initialization saved to:\n",
      "\t/home/pietakio/Documents/Levin/TestSims/Patterns_May_20_2022/INITS\n",
      "[ipykernel_launcher.py] Final average cell Vmem: -21.98 mV\n",
      "[ipykernel_launcher.py] time: 0.4 s of 0.5 s\n",
      "[ipykernel_launcher.py] Average Anion in the cell: 0.0055 mmol/L\n",
      "[ipykernel_launcher.py] Average Na  in the cell: 8.0 mmol/L\n",
      "[ipykernel_launcher.py] Average K  in the cell: 125.0 mmol/L\n",
      "[ipykernel_launcher.py] Average Cl  in the cell: 20.0 mmol/L\n",
      "[ipykernel_launcher.py] Average Ca  in the cell: 1000.0 nmol/L\n",
      "[ipykernel_launcher.py] -------------------------------------------------------------------\n",
      "[ipykernel_launcher.py] Initialization completed in 43.10 seconds.\n",
      "[ipykernel_launcher.py] Successfully run betse pipeline!\n"
     ]
    }
   ],
   "source": [
    "# Supply a path to a Betse config file on your system.\n",
    "# To work with networks, this file needs to have a 'Gene Regulatory Network' \n",
    "# enabled: \n",
    "fno = '/home/pietakio/Documents/Levin/TestSims/Patterns_May_20_2022/patterns_May_20_2022.yaml'\n",
    "\n",
    "# Begin by setting up a new cell cluster and running a betse inititalization on it:\n",
    "model = BetseWrapper(fno)\n",
    "\n",
    "# Have the model run through a BETSE simulation: \n",
    "# model.run_seed(verbose=True) # Only run the creation of a cell cluster\n",
    "# model.run_init(new_mesh=False, verbose=True) # only run the init phase\n",
    "# model.run_sim(verbose=True) # only run the sim phase\n",
    "\n",
    "# Run the whole model pipeline:\n",
    "model.run_pipeline(new_mesh=True, verbose=True, run_init=True, run_sim=False)"
   ]
  },
  {
   "cell_type": "code",
   "execution_count": 13,
   "metadata": {},
   "outputs": [
    {
     "name": "stderr",
     "output_type": "stream",
     "text": [
      "[ipykernel_launcher.py] /tmp/ipykernel_3375/3790463421.py:16: PendingDeprecationWarning: nx.nx_pydot.from_pydot depends on the pydot package, which hasknown issues and is not actively maintained.\n",
      "\n",
      "See https://github.com/networkx/networkx/issues/5723\n",
      "  graph_network = networkx.nx_pydot.from_pydot(graph_pydot)\n",
      "\n"
     ]
    }
   ],
   "source": [
    "# Working with BETSE's networks: \n",
    "# Access the gene regulatory network core:\n",
    "grn = model.phase.sim.grn.core\n",
    "\n",
    "graph_pydot = plot_master_network(grn, model.p)\n",
    "\n",
    "# Save the pydot graph to an svg file:\n",
    "# Initialize saving:\n",
    "grn.init_saving(model.phase.cells, model.p, plot_type='init', nested_folder_name='GRN')\n",
    "\n",
    "# Optionally print the location of the image path using: print(grn.imagePath)\n",
    "savename = grn.imagePath + 'OptimizedNetworkGraph' + '.svg'\n",
    "graph_pydot.write_svg(savename, prog='dot')\n",
    "\n",
    "# Convert the pydot graph to a networkx file:\n",
    "graph_network = networkx.nx_pydot.from_pydot(graph_pydot)"
   ]
  }
 ],
 "metadata": {
  "kernelspec": {
   "display_name": "Python 3 (ipykernel)",
   "language": "python",
   "name": "python3"
  },
  "language_info": {
   "codemirror_mode": {
    "name": "ipython",
    "version": 3
   },
   "file_extension": ".py",
   "mimetype": "text/x-python",
   "name": "python",
   "nbconvert_exporter": "python",
   "pygments_lexer": "ipython3",
   "version": "3.9.12"
  }
 },
 "nbformat": 4,
 "nbformat_minor": 4
}
