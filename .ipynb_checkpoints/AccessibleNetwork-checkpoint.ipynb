{
 "cells": [
  {
   "cell_type": "markdown",
   "metadata": {},
   "source": [
    "### Accessing BIGR Network Files from BETSE\n",
    "\n",
    "#### Steps:\n",
    "\n",
    "1) Start using BETSE using the 'BetseWrapper' class as outlined in the code below. The BetseWrapper class has been added to the BETSE repository, and can be accessed by pulling the latest commit from BETSE on Github. The following code shows how to run BETSE as an external dependency. \n",
    "\n",
    "2) Install Networkx and Pydot in order to work with networks \n",
    "\n",
    "3) Run the BetseWrapper as an init or sim with a config file that has a Gene Regulatory Network defined. \n",
    "\n",
    "4) See last code block below for code to access BETSE's GRN and how to export svg, convert from pydot to networkx.\n"
   ]
  },
  {
   "cell_type": "code",
   "execution_count": 1,
   "metadata": {},
   "outputs": [
    {
     "name": "stdout",
     "output_type": "stream",
     "text": [
      "Available kernels:\r\n",
      "  python3    /Users/benjamin/opt/anaconda3/share/jupyter/kernels/python3\r\n"
     ]
    }
   ],
   "source": [
    "!jupyter kernelspec list"
   ]
  },
  {
   "cell_type": "code",
   "execution_count": 2,
   "metadata": {},
   "outputs": [
    {
     "name": "stdout",
     "output_type": "stream",
     "text": [
      "/Users/benjamin/opt/anaconda3/bin/python\r\n"
     ]
    }
   ],
   "source": [
    "!which -a python"
   ]
  },
  {
   "cell_type": "code",
   "execution_count": 6,
   "metadata": {},
   "outputs": [
    {
     "name": "stdout",
     "output_type": "stream",
     "text": [
      "Requirement already satisfied: matplotlib in /Users/benjamin/opt/anaconda3/lib/python3.9/site-packages (3.5.2)\n",
      "Requirement already satisfied: pillow>=6.2.0 in /Users/benjamin/opt/anaconda3/lib/python3.9/site-packages (from matplotlib) (9.2.0)\n",
      "Requirement already satisfied: fonttools>=4.22.0 in /Users/benjamin/opt/anaconda3/lib/python3.9/site-packages (from matplotlib) (4.34.4)\n",
      "Requirement already satisfied: kiwisolver>=1.0.1 in /Users/benjamin/opt/anaconda3/lib/python3.9/site-packages (from matplotlib) (1.4.4)\n",
      "Requirement already satisfied: numpy>=1.17 in /Users/benjamin/opt/anaconda3/lib/python3.9/site-packages (from matplotlib) (1.22.3)\n",
      "Requirement already satisfied: packaging>=20.0 in /Users/benjamin/opt/anaconda3/lib/python3.9/site-packages (from matplotlib) (21.3)\n",
      "Requirement already satisfied: cycler>=0.10 in /Users/benjamin/opt/anaconda3/lib/python3.9/site-packages (from matplotlib) (0.11.0)\n",
      "Requirement already satisfied: pyparsing>=2.2.1 in /Users/benjamin/opt/anaconda3/lib/python3.9/site-packages (from matplotlib) (3.0.9)\n",
      "Requirement already satisfied: python-dateutil>=2.7 in /Users/benjamin/opt/anaconda3/lib/python3.9/site-packages (from matplotlib) (2.8.2)\n",
      "Requirement already satisfied: six>=1.5 in /Users/benjamin/opt/anaconda3/lib/python3.9/site-packages (from python-dateutil>=2.7->matplotlib) (1.16.0)\n",
      "Note: you may need to restart the kernel to use updated packages.\n"
     ]
    }
   ],
   "source": [
    "pip install matplotlib"
   ]
  },
  {
   "cell_type": "code",
   "execution_count": 16,
   "metadata": {},
   "outputs": [
    {
     "name": "stdout",
     "output_type": "stream",
     "text": [
      "IOStream.flush timed out\n",
      "IOStream.flush timed out\n",
      "Collecting beartype\n",
      "  Downloading beartype-0.10.4-py3-none-any.whl (578 kB)\n",
      "\u001b[2K     \u001b[90m━━━━━━━━━━━━━━━━━━━━━━━━━━━━━━━━━━━━━━━\u001b[0m \u001b[32m578.1/578.1 kB\u001b[0m \u001b[31m6.3 MB/s\u001b[0m eta \u001b[36m0:00:00\u001b[0m00:01\u001b[0m00:01\u001b[0m\n",
      "\u001b[?25hInstalling collected packages: beartype\n",
      "Successfully installed beartype-0.10.4\n",
      "Note: you may need to restart the kernel to use updated packages.\n"
     ]
    }
   ],
   "source": [
    "pip install beartype"
   ]
  },
  {
   "cell_type": "code",
   "execution_count": 20,
   "metadata": {},
   "outputs": [],
   "source": [
    "# Import statements:\n",
    "import numpy as np\n",
    "import matplotlib.cm as cm\n",
    "import matplotlib.pyplot as plt\n",
    "from matplotlib import colorbar\n",
    "from matplotlib.collections import PolyCollection\n",
    "from betse.science.wrapper import BetseWrapper\n",
    "\n",
    "# Import optional dependencies for working with networks:\n",
    "import networkx\n",
    "import pydot\n",
    "from betse.science.chemistry.netplot import plot_master_network"
   ]
  },
  {
   "cell_type": "code",
   "execution_count": 3,
   "metadata": {},
   "outputs": [],
   "source": [
    "# This makes plots interactive (e.g. zoom, pan, saving, etc)\n",
    "# %matplotlib notebook "
   ]
  },
  {
   "cell_type": "code",
   "execution_count": 40,
   "metadata": {},
   "outputs": [
    {
     "name": "stdout",
     "output_type": "stream",
     "text": [
      "/Users/benjamin/betse/emergentvmem.yaml\n"
     ]
    }
   ],
   "source": [
    "# Supply a path to a Betse config file on your system.\n",
    "# To work with networks, this file needs to have a 'Gene Regulatory Network' \n",
    "# enabled: \n",
    "fno = '/Users/benjamin/betse/anterior-posterior.yaml'\n",
    "print(fno)\n",
    "\n",
    "# Begin by setting up a new cell cluster and running a betse inititalization on it:\n",
    "model = BetseWrapper(fno)\n",
    "\n",
    "# Have the model run through a BETSE simulation: \n",
    "# model.run_seed(verbose=True) # Only run the creation of a cell cluster\n",
    "# model.run_init(new_mesh=False, verbose=True) # only run the init phase\n",
    "# model.run_sim(verbose=True) # only run the sim phase"
   ]
  },
  {
   "cell_type": "code",
   "execution_count": 41,
   "metadata": {},
   "outputs": [
    {
     "name": "stdout",
     "output_type": "stream",
     "text": [
      "[ipykernel_launcher.py] Creating a new 2D Grid.\n",
      "[ipykernel_launcher.py] Seeding simulation...\n",
      "[ipykernel_launcher.py] Creating hexagonal cell lattice...\n",
      "[ipykernel_launcher.py] Creating Voronoi geometry... \n",
      "[ipykernel_launcher.py] Creating triangular mesh...\n",
      "[ipykernel_launcher.py] Check for unused vertices...\n",
      "[ipykernel_launcher.py] Merging close circumcenters...\n",
      "[ipykernel_launcher.py] Defining edges of tri mesh...\n",
      "[ipykernel_launcher.py] Calculating Voronoi cells...\n",
      "[ipykernel_launcher.py] Calculating Voronoi edges...\n",
      "[ipykernel_launcher.py] Creating triangular mesh...\n",
      "[ipykernel_launcher.py] Check for unused vertices...\n",
      "[ipykernel_launcher.py] Merging close circumcenters...\n",
      "[ipykernel_launcher.py] Defining edges of tri mesh...\n",
      "[ipykernel_launcher.py] Calculating Voronoi cells...\n",
      "[ipykernel_launcher.py] Calculating Voronoi edges...\n",
      "[ipykernel_launcher.py] Creating core operators...\n",
      "[ipykernel_launcher.py] Mesh creation complete!\n",
      "[ipykernel_launcher.py] Creating computational matrices for cell-cell transfers...\n",
      "[ipykernel_launcher.py] Creating gap junctions... \n",
      "[ipykernel_launcher.py] Creating core computational matrices...\n",
      "[ipykernel_launcher.py] Cell cluster creation complete!\n",
      "[ipykernel_launcher.py] This world contains 995 cells.\n",
      "[ipykernel_launcher.py] Each cell has an average of 5.75 nearest-neighbours.\n",
      "[ipykernel_launcher.py] The \"mammal\" ion profile enables the \"sodium\", \"potassium\", \"chloride\", \"calcium\", \"proteins\", and \"anion\" ions.\n",
      "[ipykernel_launcher.py] If you have selected features using other ions, they will be ignored.\n",
      "[ipykernel_launcher.py] Extracellular spaces enabled: True\n",
      "[ipykernel_launcher.py] Cells per environmental grid square: 1.68\n",
      "[ipykernel_launcher.py] Electroosmotic fluid flow: False\n",
      "[ipykernel_launcher.py] Force-induced cell deformation: False\n",
      "[ipykernel_launcher.py] Osmotic pressure: False\n",
      "[ipykernel_launcher.py] Auxiliary molecules and properties are enabled from the\n",
      "[ipykernel_launcher.py] \"General Networks\" section of the main configuration file.\n",
      "[ipykernel_launcher.py] Seed completed in 27.04 seconds.\n",
      "[ipykernel_launcher.py] Initializing simulation...\n",
      "[ipykernel_launcher.py] Cell cluster loaded.\n",
      "[ipykernel_launcher.py] Creating core computational matrices...\n",
      "[ipykernel_launcher.py] This world contains 995 cells.\n",
      "[ipykernel_launcher.py] Each cell has an average of 5.75 nearest-neighbours.\n",
      "[ipykernel_launcher.py] The \"mammal\" ion profile enables the \"sodium\", \"potassium\", \"chloride\", \"calcium\", \"proteins\", and \"anion\" ions.\n",
      "[ipykernel_launcher.py] If you have selected features using other ions, they will be ignored.\n",
      "[ipykernel_launcher.py] Extracellular spaces enabled: True\n",
      "[ipykernel_launcher.py] Cells per environmental grid square: 1.68\n",
      "[ipykernel_launcher.py] Electroosmotic fluid flow: False\n",
      "[ipykernel_launcher.py] Force-induced cell deformation: False\n",
      "[ipykernel_launcher.py] Osmotic pressure: False\n",
      "[ipykernel_launcher.py] Auxiliary molecules and properties are enabled from the\n",
      "[ipykernel_launcher.py] \"General Networks\" section of the main configuration file.\n",
      "[ipykernel_launcher.py] Initializing tissue and boundary profiles...\n",
      "[ipykernel_launcher.py] Initializing general network...\n",
      "[ipykernel_launcher.py] Reading additional substance data...\n",
      "[ipykernel_launcher.py] Initializing substances/reaction network...\n",
      "[ipykernel_launcher.py] Writing substance growth/decay equations...\n",
      "[ipykernel_launcher.py] Writing passive electrodiffusion equations...\n",
      "[ipykernel_launcher.py] Reading reaction input data...\n",
      "[ipykernel_launcher.py] Including the cell-zone reaction: Metabolism\n",
      "[ipykernel_launcher.py] Writing reaction equations for cell zone...\n",
      "[ipykernel_launcher.py] Writing reaction network matrix for cell zone...\n",
      "[ipykernel_launcher.py] Writing reaction equations for env zone...\n",
      "[ipykernel_launcher.py] Writing reaction network matrix for env zone...\n",
      "[ipykernel_launcher.py] Reading transporter input data...\n",
      "[ipykernel_launcher.py] Including the network transporter: NaK-ATP\n",
      "[ipykernel_launcher.py] Writing transporter equations...\n",
      "[ipykernel_launcher.py] Reading channel input data...\n",
      "[ipykernel_launcher.py] You are using a K+ Leak channel\n",
      "[ipykernel_launcher.py] Your initialization is running from 0 to 80.00 s of in-world time in 8000 time steps (159 sampled).\n",
      "[ipykernel_launcher.py] Solver: Full BETSE simulator in use.\n"
     ]
    },
    {
     "name": "stderr",
     "output_type": "stream",
     "text": [
      "ffmpeg version 5.1 Copyright (c) 2000-2022 the FFmpeg developers\n",
      "  built with clang version 13.0.1\n",
      "  configuration: --prefix=/Users/runner/miniforge3/conda-bld/ffmpeg_1658802473559/_h_env_placehold_placehold_placehold_placehold_placehold_placehold_placehold_placehold_placehold_placehold_placehold_placehold_placehold_placehold_placehold_placehold_placehold_placehold_placehold_pl --cc=x86_64-apple-darwin13.4.0-clang --cxx=x86_64-apple-darwin13.4.0-clang++ --nm=x86_64-apple-darwin13.4.0-nm --ar=x86_64-apple-darwin13.4.0-ar --disable-doc --disable-openssl --enable-demuxer=dash --enable-hardcoded-tables --enable-libfreetype --enable-libfontconfig --enable-libopenh264 --disable-videotoolbox --enable-gnutls --enable-libmp3lame --enable-libvpx --enable-pthreads --enable-gpl --enable-libx264 --enable-libx265 --enable-libaom --enable-libsvtav1 --enable-libxml2 --enable-pic --enable-shared --disable-static --enable-version3 --enable-zlib --pkg-config=/Users/runner/miniforge3/conda-bld/ffmpeg_1658802473559/_build_env/bin/pkg-config\n",
      "  libavutil      57. 28.100 / 57. 28.100\n",
      "  libavcodec     59. 37.100 / 59. 37.100\n",
      "  libavformat    59. 27.100 / 59. 27.100\n",
      "  libavdevice    59.  7.100 / 59.  7.100\n",
      "  libavfilter     8. 44.100 /  8. 44.100\n",
      "  libswscale      6.  7.100 /  6.  7.100\n",
      "  libswresample   4.  7.100 /  4.  7.100\n",
      "  libpostproc    56.  6.100 / 56.  6.100\n",
      "[ipykernel_launcher.py] /Users/benjamin/betse/betse/science/visual/anim/animwhile.py:190: UserWarning: Matplotlib is currently using agg, which is a non-GUI backend, so cannot show the figure.\n",
      "  pyplot.show()\n",
      "\n"
     ]
    },
    {
     "name": "stdout",
     "output_type": "stream",
     "text": [
      "[ipykernel_launcher.py] This run should take approximately 719.100000s to compute...\n"
     ]
    },
    {
     "name": "stderr",
     "output_type": "stream",
     "text": [
      "[ipykernel_launcher.py] /Users/benjamin/betse/betse/science/sim_toolbox.py:60: RuntimeWarning: overflow encountered in exp\n",
      "  exp_alpha = np.exp(-alpha)\n",
      "\n",
      "[ipykernel_launcher.py] /Users/benjamin/betse/betse/science/sim_toolbox.py:62: RuntimeWarning: overflow encountered in expm1\n",
      "  deno = -np.expm1(-alpha)   # calculate the denominator for the electrodiffusion equation,..\n",
      "\n",
      "[ipykernel_launcher.py] /Users/benjamin/betse/betse/science/sim_toolbox.py:65: RuntimeWarning: invalid value encountered in true_divide\n",
      "  flux = -((Dc*alpha)/d)*((cB -cA*exp_alpha)/deno)*rho\n",
      "\n",
      "[ipykernel_launcher.py] /Users/benjamin/betse/betse/science/channels/gap_junction.py:63: RuntimeWarning: overflow encountered in exp\n",
      "  beta = self.lamb * np.exp(self.A2 * (V1 - p.gj_vthresh))\n",
      "\n",
      "[ipykernel_launcher.py] /Users/benjamin/betse/betse/science/channels/gap_junction.py:65: RuntimeWarning: invalid value encountered in true_divide\n",
      "  self.beta = beta / (1 + 50 * beta)\n",
      "\n",
      "[ipykernel_launcher.py] /Users/benjamin/betse/betse/science/sim_toolbox.py:65: RuntimeWarning: overflow encountered in multiply\n",
      "  flux = -((Dc*alpha)/d)*((cB -cA*exp_alpha)/deno)*rho\n",
      "\n",
      "[ipykernel_launcher.py] <string>:1: RuntimeWarning: invalid value encountered in true_divide\n",
      "\n",
      "[ipykernel_launcher.py] /Users/benjamin/opt/anaconda3/lib/python3.9/subprocess.py:1052: ResourceWarning: subprocess 30008 is still running\n",
      "  _warn(\"subprocess %s is still running\" % self.pid,\n",
      "\n",
      "[ipykernel_launcher.py] Simulation halted prematurely due to computational instability.\n"
     ]
    },
    {
     "name": "stdout",
     "output_type": "stream",
     "text": [
      "[ipykernel_launcher.py] Initialization saved to:\n",
      "\t/Users/benjamin/betse/INITS\n"
     ]
    },
    {
     "ename": "IndexError",
     "evalue": "list index out of range",
     "output_type": "error",
     "traceback": [
      "\u001b[0;31m---------------------------------------------------------------------------\u001b[0m",
      "\u001b[0;31mIndexError\u001b[0m                                Traceback (most recent call last)",
      "\u001b[0;32m/var/folders/y1/yzhnjvf90_7ccsbpmlmxkk3r0000gn/T/ipykernel_28365/390596601.py\u001b[0m in \u001b[0;36m<cell line: 2>\u001b[0;34m()\u001b[0m\n\u001b[1;32m      1\u001b[0m \u001b[0;31m# Run the whole model pipeline:\u001b[0m\u001b[0;34m\u001b[0m\u001b[0;34m\u001b[0m\u001b[0m\n\u001b[0;32m----> 2\u001b[0;31m \u001b[0mmodel\u001b[0m\u001b[0;34m.\u001b[0m\u001b[0mrun_pipeline\u001b[0m\u001b[0;34m(\u001b[0m\u001b[0mnew_mesh\u001b[0m\u001b[0;34m=\u001b[0m\u001b[0;32mTrue\u001b[0m\u001b[0;34m,\u001b[0m \u001b[0mverbose\u001b[0m\u001b[0;34m=\u001b[0m\u001b[0;32mTrue\u001b[0m\u001b[0;34m,\u001b[0m \u001b[0mrun_init\u001b[0m\u001b[0;34m=\u001b[0m\u001b[0;32mTrue\u001b[0m\u001b[0;34m,\u001b[0m \u001b[0mrun_sim\u001b[0m\u001b[0;34m=\u001b[0m\u001b[0;32mFalse\u001b[0m\u001b[0;34m)\u001b[0m\u001b[0;34m\u001b[0m\u001b[0;34m\u001b[0m\u001b[0m\n\u001b[0m",
      "\u001b[0;32m~/betse/betse/science/wrapper.py\u001b[0m in \u001b[0;36mrun_pipeline\u001b[0;34m(self, new_mesh, verbose, run_init, run_sim)\u001b[0m\n\u001b[1;32m     87\u001b[0m \u001b[0;34m\u001b[0m\u001b[0m\n\u001b[1;32m     88\u001b[0m         \u001b[0;32mif\u001b[0m \u001b[0mrun_init\u001b[0m\u001b[0;34m:\u001b[0m\u001b[0;34m\u001b[0m\u001b[0;34m\u001b[0m\u001b[0m\n\u001b[0;32m---> 89\u001b[0;31m             \u001b[0mself\u001b[0m\u001b[0;34m.\u001b[0m\u001b[0m_init_runner\u001b[0m\u001b[0;34m(\u001b[0m\u001b[0mrunsim\u001b[0m\u001b[0;34m=\u001b[0m\u001b[0mrun_sim\u001b[0m\u001b[0;34m)\u001b[0m\u001b[0;34m\u001b[0m\u001b[0;34m\u001b[0m\u001b[0m\n\u001b[0m\u001b[1;32m     90\u001b[0m \u001b[0;34m\u001b[0m\u001b[0m\n\u001b[1;32m     91\u001b[0m         \u001b[0;32mif\u001b[0m \u001b[0mself\u001b[0m\u001b[0;34m.\u001b[0m\u001b[0mverbose\u001b[0m \u001b[0;32mis\u001b[0m \u001b[0;32mTrue\u001b[0m\u001b[0;34m:\u001b[0m\u001b[0;34m\u001b[0m\u001b[0;34m\u001b[0m\u001b[0m\n",
      "\u001b[0;32m~/betse/betse/science/wrapper.py\u001b[0m in \u001b[0;36m_init_runner\u001b[0;34m(self, runsim)\u001b[0m\n\u001b[1;32m    302\u001b[0m         \"\"\"\n\u001b[1;32m    303\u001b[0m \u001b[0;34m\u001b[0m\u001b[0m\n\u001b[0;32m--> 304\u001b[0;31m         \u001b[0mself\u001b[0m\u001b[0;34m.\u001b[0m\u001b[0mphase\u001b[0m \u001b[0;34m=\u001b[0m \u001b[0mself\u001b[0m\u001b[0;34m.\u001b[0m\u001b[0msimrun\u001b[0m\u001b[0;34m.\u001b[0m\u001b[0minit\u001b[0m\u001b[0;34m(\u001b[0m\u001b[0;34m)\u001b[0m\u001b[0;34m\u001b[0m\u001b[0;34m\u001b[0m\u001b[0m\n\u001b[0m\u001b[1;32m    305\u001b[0m \u001b[0;34m\u001b[0m\u001b[0m\n\u001b[1;32m    306\u001b[0m         \u001b[0;32mif\u001b[0m \u001b[0mrunsim\u001b[0m\u001b[0;34m:\u001b[0m\u001b[0;34m\u001b[0m\u001b[0;34m\u001b[0m\u001b[0m\n",
      "\u001b[0;32m~/betse/betse/util/type/decorator/decprof.py\u001b[0m in \u001b[0;36m_log_time_seconds_decorated\u001b[0;34m(*args, **kwargs)\u001b[0m\n\u001b[1;32m    102\u001b[0m             \u001b[0;31m# Call this function, passed all passed parameters and preserving the\u001b[0m\u001b[0;34m\u001b[0m\u001b[0;34m\u001b[0m\u001b[0m\n\u001b[1;32m    103\u001b[0m             \u001b[0;31m# return value as is.\u001b[0m\u001b[0;34m\u001b[0m\u001b[0;34m\u001b[0m\u001b[0m\n\u001b[0;32m--> 104\u001b[0;31m             \u001b[0mreturn_value\u001b[0m \u001b[0;34m=\u001b[0m \u001b[0mfunc\u001b[0m\u001b[0;34m(\u001b[0m\u001b[0;34m*\u001b[0m\u001b[0margs\u001b[0m\u001b[0;34m,\u001b[0m \u001b[0;34m**\u001b[0m\u001b[0mkwargs\u001b[0m\u001b[0;34m)\u001b[0m\u001b[0;34m\u001b[0m\u001b[0;34m\u001b[0m\u001b[0m\n\u001b[0m\u001b[1;32m    105\u001b[0m \u001b[0;34m\u001b[0m\u001b[0m\n\u001b[1;32m    106\u001b[0m             \u001b[0;31m# Cumulative time in fractional seconds spent in this call.\u001b[0m\u001b[0;34m\u001b[0m\u001b[0;34m\u001b[0m\u001b[0m\n",
      "\u001b[0;32m~/betse/betse/science/simrunner.py\u001b[0m in \u001b[0;36minit\u001b[0;34m(self)\u001b[0m\n\u001b[1;32m    235\u001b[0m         \u001b[0;31m# Run this simulation phase.\u001b[0m\u001b[0;34m\u001b[0m\u001b[0;34m\u001b[0m\u001b[0m\n\u001b[1;32m    236\u001b[0m         \u001b[0mphase\u001b[0m\u001b[0;34m.\u001b[0m\u001b[0msim\u001b[0m\u001b[0;34m.\u001b[0m\u001b[0msim_info_report\u001b[0m\u001b[0;34m(\u001b[0m\u001b[0mphase\u001b[0m\u001b[0;34m)\u001b[0m\u001b[0;34m\u001b[0m\u001b[0;34m\u001b[0m\u001b[0m\n\u001b[0;32m--> 237\u001b[0;31m         \u001b[0mphase\u001b[0m\u001b[0;34m.\u001b[0m\u001b[0msim\u001b[0m\u001b[0;34m.\u001b[0m\u001b[0mrun_sim_core\u001b[0m\u001b[0;34m(\u001b[0m\u001b[0mphase\u001b[0m\u001b[0;34m)\u001b[0m\u001b[0;34m\u001b[0m\u001b[0;34m\u001b[0m\u001b[0m\n\u001b[0m\u001b[1;32m    238\u001b[0m \u001b[0;34m\u001b[0m\u001b[0m\n\u001b[1;32m    239\u001b[0m         \u001b[0;31m# Return this phase.\u001b[0m\u001b[0;34m\u001b[0m\u001b[0;34m\u001b[0m\u001b[0m\n",
      "\u001b[0;32m~/betse/betse/util/type/types.py\u001b[0m in \u001b[0;36m__run_sim_core_type_checked__\u001b[0;34m(__beartype_func, *args, **kwargs)\u001b[0m\n",
      "\u001b[0;32m~/betse/betse/science/sim.py\u001b[0m in \u001b[0;36mrun_sim_core\u001b[0;34m(self, phase)\u001b[0m\n\u001b[1;32m   1119\u001b[0m         \u001b[0;31m# Save this initialization or simulation and report results of\u001b[0m\u001b[0;34m\u001b[0m\u001b[0;34m\u001b[0m\u001b[0m\n\u001b[1;32m   1120\u001b[0m         \u001b[0;31m# potential interest to the user.\u001b[0m\u001b[0;34m\u001b[0m\u001b[0;34m\u001b[0m\u001b[0m\n\u001b[0;32m-> 1121\u001b[0;31m         \u001b[0mself\u001b[0m\u001b[0;34m.\u001b[0m\u001b[0m_pickle_phase\u001b[0m\u001b[0;34m(\u001b[0m\u001b[0mphase\u001b[0m\u001b[0;34m)\u001b[0m\u001b[0;34m\u001b[0m\u001b[0;34m\u001b[0m\u001b[0m\n\u001b[0m\u001b[1;32m   1122\u001b[0m \u001b[0;34m\u001b[0m\u001b[0m\n\u001b[1;32m   1123\u001b[0m         \u001b[0;31m# If the simulation went unstable, inform the user and reraise the\u001b[0m\u001b[0;34m\u001b[0m\u001b[0;34m\u001b[0m\u001b[0m\n",
      "\u001b[0;32m~/betse/betse/util/type/types.py\u001b[0m in \u001b[0;36m___pickle_phase_type_checked__\u001b[0;34m(__beartype_func, *args, **kwargs)\u001b[0m\n",
      "\u001b[0;32m~/betse/betse/science/sim.py\u001b[0m in \u001b[0;36m_pickle_phase\u001b[0;34m(self, phase)\u001b[0m\n\u001b[1;32m   1913\u001b[0m                 'Simulation saved to:\\n\\t%s', phase.p.sim_pickle_dirname)\n\u001b[1;32m   1914\u001b[0m \u001b[0;34m\u001b[0m\u001b[0m\n\u001b[0;32m-> 1915\u001b[0;31m         \u001b[0mfinal_vmean\u001b[0m \u001b[0;34m=\u001b[0m \u001b[0;36m1000\u001b[0m \u001b[0;34m*\u001b[0m \u001b[0mnp\u001b[0m\u001b[0;34m.\u001b[0m\u001b[0mround\u001b[0m\u001b[0;34m(\u001b[0m\u001b[0mnp\u001b[0m\u001b[0;34m.\u001b[0m\u001b[0mmean\u001b[0m\u001b[0;34m(\u001b[0m\u001b[0mself\u001b[0m\u001b[0;34m.\u001b[0m\u001b[0mvm_time\u001b[0m\u001b[0;34m[\u001b[0m\u001b[0;34m-\u001b[0m\u001b[0;36m1\u001b[0m\u001b[0;34m]\u001b[0m\u001b[0;34m)\u001b[0m\u001b[0;34m,\u001b[0m \u001b[0;36m6\u001b[0m\u001b[0;34m)\u001b[0m\u001b[0;34m\u001b[0m\u001b[0;34m\u001b[0m\u001b[0m\n\u001b[0m\u001b[1;32m   1916\u001b[0m         \u001b[0mlogs\u001b[0m\u001b[0;34m.\u001b[0m\u001b[0mlog_info\u001b[0m\u001b[0;34m(\u001b[0m\u001b[0;34m'Final average cell Vmem: %g mV'\u001b[0m\u001b[0;34m,\u001b[0m \u001b[0mfinal_vmean\u001b[0m\u001b[0;34m)\u001b[0m\u001b[0;34m\u001b[0m\u001b[0;34m\u001b[0m\u001b[0m\n\u001b[1;32m   1917\u001b[0m \u001b[0;34m\u001b[0m\u001b[0m\n",
      "\u001b[0;31mIndexError\u001b[0m: list index out of range"
     ]
    }
   ],
   "source": [
    "# Run the whole model pipeline:\n",
    "model.run_pipeline(new_mesh=True, verbose=True, run_init=True, run_sim=False)"
   ]
  },
  {
   "cell_type": "code",
   "execution_count": 28,
   "metadata": {},
   "outputs": [
    {
     "ename": "AttributeError",
     "evalue": "'NoneType' object has no attribute 'core'",
     "output_type": "error",
     "traceback": [
      "\u001b[0;31m---------------------------------------------------------------------------\u001b[0m",
      "\u001b[0;31mAttributeError\u001b[0m                            Traceback (most recent call last)",
      "\u001b[0;32m/var/folders/y1/yzhnjvf90_7ccsbpmlmxkk3r0000gn/T/ipykernel_28365/3790463421.py\u001b[0m in \u001b[0;36m<cell line: 3>\u001b[0;34m()\u001b[0m\n\u001b[1;32m      1\u001b[0m \u001b[0;31m# Working with BETSE's networks:\u001b[0m\u001b[0;34m\u001b[0m\u001b[0;34m\u001b[0m\u001b[0m\n\u001b[1;32m      2\u001b[0m \u001b[0;31m# Access the gene regulatory network core:\u001b[0m\u001b[0;34m\u001b[0m\u001b[0;34m\u001b[0m\u001b[0m\n\u001b[0;32m----> 3\u001b[0;31m \u001b[0mgrn\u001b[0m \u001b[0;34m=\u001b[0m \u001b[0mmodel\u001b[0m\u001b[0;34m.\u001b[0m\u001b[0mphase\u001b[0m\u001b[0;34m.\u001b[0m\u001b[0msim\u001b[0m\u001b[0;34m.\u001b[0m\u001b[0mgrn\u001b[0m\u001b[0;34m.\u001b[0m\u001b[0mcore\u001b[0m\u001b[0;34m\u001b[0m\u001b[0;34m\u001b[0m\u001b[0m\n\u001b[0m\u001b[1;32m      4\u001b[0m \u001b[0;34m\u001b[0m\u001b[0m\n\u001b[1;32m      5\u001b[0m \u001b[0mgraph_pydot\u001b[0m \u001b[0;34m=\u001b[0m \u001b[0mplot_master_network\u001b[0m\u001b[0;34m(\u001b[0m\u001b[0mgrn\u001b[0m\u001b[0;34m,\u001b[0m \u001b[0mmodel\u001b[0m\u001b[0;34m.\u001b[0m\u001b[0mp\u001b[0m\u001b[0;34m)\u001b[0m\u001b[0;34m\u001b[0m\u001b[0;34m\u001b[0m\u001b[0m\n",
      "\u001b[0;31mAttributeError\u001b[0m: 'NoneType' object has no attribute 'core'"
     ]
    }
   ],
   "source": [
    "# Working with BETSE's networks: \n",
    "# Access the gene regulatory network core:\n",
    "grn = model.phase.sim.grn.core\n",
    "\n",
    "graph_pydot = plot_master_network(grn, model.p)\n",
    "\n",
    "# Save the pydot graph to an svg file:\n",
    "# Initialize saving:\n",
    "grn.init_saving(model.phase.cells, model.p, plot_type='init', nested_folder_name='GRN')\n",
    "\n",
    "# Optionally print the location of the image path using: print(grn.imagePath)\n",
    "savename = grn.imagePath + 'OptimizedNetworkGraph' + '.svg'\n",
    "graph_pydot.write_svg(savename, prog='dot')\n",
    "\n",
    "# Convert the pydot graph to a networkx file:\n",
    "graph_network = networkx.nx_pydot.from_pydot(graph_pydot)"
   ]
  },
  {
   "cell_type": "code",
   "execution_count": null,
   "metadata": {},
   "outputs": [],
   "source": []
  }
 ],
 "metadata": {
  "kernelspec": {
   "display_name": "Python 3 (ipykernel)",
   "language": "python",
   "name": "python3"
  },
  "language_info": {
   "codemirror_mode": {
    "name": "ipython",
    "version": 3
   },
   "file_extension": ".py",
   "mimetype": "text/x-python",
   "name": "python",
   "nbconvert_exporter": "python",
   "pygments_lexer": "ipython3",
   "version": "3.9.12"
  },
  "vscode": {
   "interpreter": {
    "hash": "b0fa6594d8f4cbf19f97940f81e996739fb7646882a419484c72d19e05852a7e"
   }
  }
 },
 "nbformat": 4,
 "nbformat_minor": 4
}
